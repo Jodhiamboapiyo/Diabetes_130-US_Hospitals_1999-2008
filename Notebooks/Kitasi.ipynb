{
 "cells": [
  {
   "cell_type": "markdown",
   "metadata": {},
   "source": [
    "## DIABETES 130-US HOSPITALS FOR YEARS 1999-2008\n",
    "\n",
    "### Improving Diabetes Care and Reducing Early Readmissions: A Data-Driven Approach Using 10 Years of U.S. Hospital Records"
   ]
  }
 ],
 "metadata": {
  "language_info": {
   "name": "python"
  }
 },
 "nbformat": 4,
 "nbformat_minor": 2
}

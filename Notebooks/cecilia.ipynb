{
 "cells": [
  {
   "cell_type": "markdown",
   "id": "a8383c53",
   "metadata": {},
   "source": [
    "# Introduction"
   ]
  },
  {
   "cell_type": "markdown",
   "id": "f0388d01",
   "metadata": {},
   "source": [
    "Diabetes is a chronic condition that affects the body’s ability to regulate blood sugar levels due to insufficient insulin production or the body's inability to use insulin effectively. It is classified into two main types: **Type 1 diabetes**, an autoimmune condition that destroys insulin-producing cells, and **Type 2 diabetes**, which occurs when the body becomes resistant to insulin. While Type 1 diabetes is less common, affecting about **5-10%** of cases, Type 2 accounts for **95%** and is strongly linked to lifestyle factors such as obesity and physical inactivity. Common symptoms include frequent urination, excessive thirst, fatigue, blurred vision, and slow-healing wounds. If left untreated, diabetes can lead to serious complications like heart disease, kidney failure, and nerve damage.  \n",
    "\n",
    "In the United States, diabetes is a growing public health concern, with **38.4 million people** diagnosed as of 2021. The disease disproportionately affects racial and ethnic groups, with **American Indians/Alaska Natives (13.6%)**, **non-Hispanic Black adults (12.1%)**, and **Hispanic adults (11.7%)** experiencing higher prevalence compared to **Asian Americans (9.1%)** and **non-Hispanic White adults (6.9%)** [(Diabetes.org)](https://diabetes.org/about-diabetes/statistics/about-diabetes). Age is also a major factor, as nearly **29.2% of adults over 65** have diabetes, and the number of diagnosed young people is rising, with **352,000 individuals under 20** living with the disease. In 2018 alone, **8.2 million hospital stays** involved diabetes-related conditions, with **95%** of those attributed to Type 2 diabetes [(HCUP)](https://hcup-us.ahrq.gov/reports/statbriefs/sb279-Diabetes-Inpatient-Stays-2018.jsp).  \n",
    "\n",
    "The rising prevalence of diabetes in the U.S. is driven by several factors, including **obesity, poor diet, physical inactivity, and socioeconomic disparities**. Over **40% of U.S. adults** are classified as obese, increasing their risk of developing Type 2 diabetes. Additionally, limited access to **healthy food, healthcare, and preventive education** contributes to higher rates, particularly in low-income communities. Genetic predisposition also plays a role, making certain racial and ethnic groups more vulnerable. As diabetes continues to strain the healthcare system and impact millions of lives, effective prevention and management strategies are essential to reduce complications and improve patient outcomes.\n",
    "\n",
    "\n"
   ]
  },
  {
   "cell_type": "markdown",
   "id": "230b427c",
   "metadata": {},
   "source": [
    "# Problem Statement"
   ]
  },
  {
   "cell_type": "markdown",
   "id": "dcdbbb21",
   "metadata": {},
   "source": [
    "Between 2010 and 2019, there were 304 million hospitalizations above 18 years of age, of which 78 million were diabetes-associated hospitalizations. During both 2010 and 2019 majority of the hospitalizations for diabetes occurred in the age groups 60–69 and 70–79 years, followed by ≥80 years and 50–59 years. Among these hospitalizations, there was a greater proportion of females (52.2%) during 2010, whereas there was a greater proportion of males during 2019 (51.2%). During both years, the majority of these hospitalizations were among Whites, followed by Blacks, Hispanics, Asians or Pacific Islanders, and Native Americans. [National Library of Medicine](https://pmc.ncbi.nlm.nih.gov/articles/PMC9698503/#:~:text=Results-,Between%202010%20and%202019%2C%20there%20were%20304%20million%20hospitalizations%20above,%E2%80%936.0)\n",
    "\n",
    "\n",
    "With an emphasis on several diabetes-related characteristics, this project uses ten years' worth of U.S. hospital data to forecast the risk of diabetes-related early hospital readmissions. Healthcare results can be significantly enhanced by anticipating diabetic patients' early readmissions. Hospitals can offer targeted care, including individualized treatment plans and closer monitoring, to high-risk patients prior to discharge, therefore reducing problems and readmissions. Additionally, this lowers medical expenses and maximizes hospital resources. Early intervention can improve patients' quality of life and long-term well-being by preventing their health from getting worse. In the end, early readmission prediction results in better healthcare practices, cost savings, and patient management."
   ]
  },
  {
   "cell_type": "markdown",
   "id": "20fd240f",
   "metadata": {},
   "source": [
    "# Objectives"
   ]
  },
  {
   "cell_type": "markdown",
   "id": "29e4514d",
   "metadata": {},
   "source": [
    "\n",
    "1. **Develop a binary classification model to predict early patient readmissions (within 30 days of discharge)**  \n",
    "   Early readmissions are a key indicator of healthcare quality and efficiency. By building a predictive model, we aim to identify high-risk patients who are likely to return to the hospital shortly after discharge.   \n",
    "\n",
    "2. **Analyze how patient factors influence readmission risk** \n",
    "    Check how various factors such as demograpics, medical history, treatment etc may influence a patient being readmitted.\n",
    "\n",
    "3. **Explore how medical procedures and lab tests impact readmissions**  \n",
    "   Certain medical procedures or test results may indicate higher health risks, influencing the likelihood of readmission. Evaluating the role of number of lab procedures,number of procedures, number of medications can help identify if intensive medical intervention correlates with higher/lower risk of admission.\n",
    "\n",
    "4. **Accurately evaluate our model’s predictive performance**  \n",
    "   To ensure the model provides reliable predictions, we will assess its performance using metrics such as accuracy, precision, recall, and AUC-ROC scores. A well-validated model can be used to support real-world decision-making in hospitals and healthcare settings.  \n",
    "\n",
    "5. **Provide actionable insights for targeted interventions**  \n",
    "   Beyond model predictions, this project aims to generate insights that healthcare professionals can use to improve patient care. By identifying key risk factors for readmission, hospitals can develop personalized discharge plans, enhance follow-up care, and implement policies that reduce preventable hospital returns, ultimately improving overall healthcare efficiency.  \n",
    " "
   ]
  },
  {
   "cell_type": "markdown",
   "id": "63445c7a",
   "metadata": {},
   "source": [
    "# Data Limitations"
   ]
  },
  {
   "cell_type": "markdown",
   "id": "69998810",
   "metadata": {},
   "source": [
    "1. **Historical bias.** The data source of this project was colleected between the years 1999-2008, which may not capture the new health and technological innovations that may have arised over the years\n",
    "\n",
    "2. **Limited Socioeconomic and Behavioral Data.** The dataset lacks important social and behavioral factors (e.g., income level, diet, lifestyle choices) that influence readmissions. This may limit  the ability to capture the full picture of why some patients return to the hospital.\n",
    "\n",
    "3. **Lack of Clear Documentation.** Some column names contain abbreviations , with no explanations, making it difficult to interpret their exact meaning. Without proper documentation, there is a risk of misinterpreting variables, which could affect data analysis and model accuracy\n",
    "\n",
    "4. **Complexity of Medical Terminology.** The dataset includes various medical terms, diagnoses, and medical terminologies that may be difficult to understand without domain expertise. \n"
   ]
  },
  {
   "cell_type": "markdown",
   "id": "3aa14cda",
   "metadata": {},
   "source": [
    "# Data Source"
   ]
  },
  {
   "cell_type": "markdown",
   "id": "12980c68",
   "metadata": {},
   "source": [
    "https://archive.ics.uci.edu/dataset/296/diabetes+130-us+hospitals+for+years+1999-20"
   ]
  },
  {
   "cell_type": "markdown",
   "id": "e0386466",
   "metadata": {},
   "source": [
    "# Data Understanding"
   ]
  },
  {
   "cell_type": "code",
   "execution_count": 1,
   "id": "696620e6",
   "metadata": {},
   "outputs": [],
   "source": [
    "import pandas as pd\n",
    "import numpy as np\n",
    "import seaborn as sns\n",
    "import matplotlib.pyplot as plt\n"
   ]
  },
  {
   "cell_type": "code",
   "execution_count": 2,
   "id": "1a1dbf4a",
   "metadata": {},
   "outputs": [
    {
     "data": {
      "text/html": [
       "<div>\n",
       "<style scoped>\n",
       "    .dataframe tbody tr th:only-of-type {\n",
       "        vertical-align: middle;\n",
       "    }\n",
       "\n",
       "    .dataframe tbody tr th {\n",
       "        vertical-align: top;\n",
       "    }\n",
       "\n",
       "    .dataframe thead th {\n",
       "        text-align: right;\n",
       "    }\n",
       "</style>\n",
       "<table border=\"1\" class=\"dataframe\">\n",
       "  <thead>\n",
       "    <tr style=\"text-align: right;\">\n",
       "      <th></th>\n",
       "      <th>encounter_id</th>\n",
       "      <th>patient_nbr</th>\n",
       "      <th>race</th>\n",
       "      <th>gender</th>\n",
       "      <th>age</th>\n",
       "      <th>weight</th>\n",
       "      <th>admission_type_id</th>\n",
       "      <th>discharge_disposition_id</th>\n",
       "      <th>admission_source_id</th>\n",
       "      <th>time_in_hospital</th>\n",
       "      <th>...</th>\n",
       "      <th>citoglipton</th>\n",
       "      <th>insulin</th>\n",
       "      <th>glyburide-metformin</th>\n",
       "      <th>glipizide-metformin</th>\n",
       "      <th>glimepiride-pioglitazone</th>\n",
       "      <th>metformin-rosiglitazone</th>\n",
       "      <th>metformin-pioglitazone</th>\n",
       "      <th>change</th>\n",
       "      <th>diabetesMed</th>\n",
       "      <th>readmitted</th>\n",
       "    </tr>\n",
       "  </thead>\n",
       "  <tbody>\n",
       "    <tr>\n",
       "      <th>0</th>\n",
       "      <td>2278392</td>\n",
       "      <td>8222157</td>\n",
       "      <td>Caucasian</td>\n",
       "      <td>Female</td>\n",
       "      <td>[0-10)</td>\n",
       "      <td>?</td>\n",
       "      <td>6</td>\n",
       "      <td>25</td>\n",
       "      <td>1</td>\n",
       "      <td>1</td>\n",
       "      <td>...</td>\n",
       "      <td>No</td>\n",
       "      <td>No</td>\n",
       "      <td>No</td>\n",
       "      <td>No</td>\n",
       "      <td>No</td>\n",
       "      <td>No</td>\n",
       "      <td>No</td>\n",
       "      <td>No</td>\n",
       "      <td>No</td>\n",
       "      <td>NO</td>\n",
       "    </tr>\n",
       "    <tr>\n",
       "      <th>1</th>\n",
       "      <td>149190</td>\n",
       "      <td>55629189</td>\n",
       "      <td>Caucasian</td>\n",
       "      <td>Female</td>\n",
       "      <td>[10-20)</td>\n",
       "      <td>?</td>\n",
       "      <td>1</td>\n",
       "      <td>1</td>\n",
       "      <td>7</td>\n",
       "      <td>3</td>\n",
       "      <td>...</td>\n",
       "      <td>No</td>\n",
       "      <td>Up</td>\n",
       "      <td>No</td>\n",
       "      <td>No</td>\n",
       "      <td>No</td>\n",
       "      <td>No</td>\n",
       "      <td>No</td>\n",
       "      <td>Ch</td>\n",
       "      <td>Yes</td>\n",
       "      <td>&gt;30</td>\n",
       "    </tr>\n",
       "    <tr>\n",
       "      <th>2</th>\n",
       "      <td>64410</td>\n",
       "      <td>86047875</td>\n",
       "      <td>AfricanAmerican</td>\n",
       "      <td>Female</td>\n",
       "      <td>[20-30)</td>\n",
       "      <td>?</td>\n",
       "      <td>1</td>\n",
       "      <td>1</td>\n",
       "      <td>7</td>\n",
       "      <td>2</td>\n",
       "      <td>...</td>\n",
       "      <td>No</td>\n",
       "      <td>No</td>\n",
       "      <td>No</td>\n",
       "      <td>No</td>\n",
       "      <td>No</td>\n",
       "      <td>No</td>\n",
       "      <td>No</td>\n",
       "      <td>No</td>\n",
       "      <td>Yes</td>\n",
       "      <td>NO</td>\n",
       "    </tr>\n",
       "    <tr>\n",
       "      <th>3</th>\n",
       "      <td>500364</td>\n",
       "      <td>82442376</td>\n",
       "      <td>Caucasian</td>\n",
       "      <td>Male</td>\n",
       "      <td>[30-40)</td>\n",
       "      <td>?</td>\n",
       "      <td>1</td>\n",
       "      <td>1</td>\n",
       "      <td>7</td>\n",
       "      <td>2</td>\n",
       "      <td>...</td>\n",
       "      <td>No</td>\n",
       "      <td>Up</td>\n",
       "      <td>No</td>\n",
       "      <td>No</td>\n",
       "      <td>No</td>\n",
       "      <td>No</td>\n",
       "      <td>No</td>\n",
       "      <td>Ch</td>\n",
       "      <td>Yes</td>\n",
       "      <td>NO</td>\n",
       "    </tr>\n",
       "    <tr>\n",
       "      <th>4</th>\n",
       "      <td>16680</td>\n",
       "      <td>42519267</td>\n",
       "      <td>Caucasian</td>\n",
       "      <td>Male</td>\n",
       "      <td>[40-50)</td>\n",
       "      <td>?</td>\n",
       "      <td>1</td>\n",
       "      <td>1</td>\n",
       "      <td>7</td>\n",
       "      <td>1</td>\n",
       "      <td>...</td>\n",
       "      <td>No</td>\n",
       "      <td>Steady</td>\n",
       "      <td>No</td>\n",
       "      <td>No</td>\n",
       "      <td>No</td>\n",
       "      <td>No</td>\n",
       "      <td>No</td>\n",
       "      <td>Ch</td>\n",
       "      <td>Yes</td>\n",
       "      <td>NO</td>\n",
       "    </tr>\n",
       "  </tbody>\n",
       "</table>\n",
       "<p>5 rows × 50 columns</p>\n",
       "</div>"
      ],
      "text/plain": [
       "   encounter_id  patient_nbr             race  gender      age weight  \\\n",
       "0       2278392      8222157        Caucasian  Female   [0-10)      ?   \n",
       "1        149190     55629189        Caucasian  Female  [10-20)      ?   \n",
       "2         64410     86047875  AfricanAmerican  Female  [20-30)      ?   \n",
       "3        500364     82442376        Caucasian    Male  [30-40)      ?   \n",
       "4         16680     42519267        Caucasian    Male  [40-50)      ?   \n",
       "\n",
       "   admission_type_id  discharge_disposition_id  admission_source_id  \\\n",
       "0                  6                        25                    1   \n",
       "1                  1                         1                    7   \n",
       "2                  1                         1                    7   \n",
       "3                  1                         1                    7   \n",
       "4                  1                         1                    7   \n",
       "\n",
       "   time_in_hospital  ... citoglipton insulin  glyburide-metformin  \\\n",
       "0                 1  ...          No      No                   No   \n",
       "1                 3  ...          No      Up                   No   \n",
       "2                 2  ...          No      No                   No   \n",
       "3                 2  ...          No      Up                   No   \n",
       "4                 1  ...          No  Steady                   No   \n",
       "\n",
       "   glipizide-metformin  glimepiride-pioglitazone  metformin-rosiglitazone  \\\n",
       "0                   No                        No                       No   \n",
       "1                   No                        No                       No   \n",
       "2                   No                        No                       No   \n",
       "3                   No                        No                       No   \n",
       "4                   No                        No                       No   \n",
       "\n",
       "   metformin-pioglitazone  change diabetesMed readmitted  \n",
       "0                      No      No          No         NO  \n",
       "1                      No      Ch         Yes        >30  \n",
       "2                      No      No         Yes         NO  \n",
       "3                      No      Ch         Yes         NO  \n",
       "4                      No      Ch         Yes         NO  \n",
       "\n",
       "[5 rows x 50 columns]"
      ]
     },
     "execution_count": 2,
     "metadata": {},
     "output_type": "execute_result"
    }
   ],
   "source": [
    "data = pd.read_csv('C:/Users/hp/Desktop/DATA NEXUS PROJECTS/Diabetes_130-US_Hospitals_1999-2008/diabetic_data.csv')\n",
    "data.head() #display the first 5 rows of our dataset"
   ]
  },
  {
   "cell_type": "code",
   "execution_count": 3,
   "id": "50f45e4f",
   "metadata": {},
   "outputs": [
    {
     "data": {
      "text/html": [
       "<div>\n",
       "<style scoped>\n",
       "    .dataframe tbody tr th:only-of-type {\n",
       "        vertical-align: middle;\n",
       "    }\n",
       "\n",
       "    .dataframe tbody tr th {\n",
       "        vertical-align: top;\n",
       "    }\n",
       "\n",
       "    .dataframe thead th {\n",
       "        text-align: right;\n",
       "    }\n",
       "</style>\n",
       "<table border=\"1\" class=\"dataframe\">\n",
       "  <thead>\n",
       "    <tr style=\"text-align: right;\">\n",
       "      <th></th>\n",
       "      <th>encounter_id</th>\n",
       "      <th>patient_nbr</th>\n",
       "      <th>race</th>\n",
       "      <th>gender</th>\n",
       "      <th>age</th>\n",
       "      <th>weight</th>\n",
       "      <th>admission_type_id</th>\n",
       "      <th>discharge_disposition_id</th>\n",
       "      <th>admission_source_id</th>\n",
       "      <th>time_in_hospital</th>\n",
       "      <th>...</th>\n",
       "      <th>citoglipton</th>\n",
       "      <th>insulin</th>\n",
       "      <th>glyburide-metformin</th>\n",
       "      <th>glipizide-metformin</th>\n",
       "      <th>glimepiride-pioglitazone</th>\n",
       "      <th>metformin-rosiglitazone</th>\n",
       "      <th>metformin-pioglitazone</th>\n",
       "      <th>change</th>\n",
       "      <th>diabetesMed</th>\n",
       "      <th>readmitted</th>\n",
       "    </tr>\n",
       "  </thead>\n",
       "  <tbody>\n",
       "    <tr>\n",
       "      <th>101761</th>\n",
       "      <td>443847548</td>\n",
       "      <td>100162476</td>\n",
       "      <td>AfricanAmerican</td>\n",
       "      <td>Male</td>\n",
       "      <td>[70-80)</td>\n",
       "      <td>?</td>\n",
       "      <td>1</td>\n",
       "      <td>3</td>\n",
       "      <td>7</td>\n",
       "      <td>3</td>\n",
       "      <td>...</td>\n",
       "      <td>No</td>\n",
       "      <td>Down</td>\n",
       "      <td>No</td>\n",
       "      <td>No</td>\n",
       "      <td>No</td>\n",
       "      <td>No</td>\n",
       "      <td>No</td>\n",
       "      <td>Ch</td>\n",
       "      <td>Yes</td>\n",
       "      <td>&gt;30</td>\n",
       "    </tr>\n",
       "    <tr>\n",
       "      <th>101762</th>\n",
       "      <td>443847782</td>\n",
       "      <td>74694222</td>\n",
       "      <td>AfricanAmerican</td>\n",
       "      <td>Female</td>\n",
       "      <td>[80-90)</td>\n",
       "      <td>?</td>\n",
       "      <td>1</td>\n",
       "      <td>4</td>\n",
       "      <td>5</td>\n",
       "      <td>5</td>\n",
       "      <td>...</td>\n",
       "      <td>No</td>\n",
       "      <td>Steady</td>\n",
       "      <td>No</td>\n",
       "      <td>No</td>\n",
       "      <td>No</td>\n",
       "      <td>No</td>\n",
       "      <td>No</td>\n",
       "      <td>No</td>\n",
       "      <td>Yes</td>\n",
       "      <td>NO</td>\n",
       "    </tr>\n",
       "    <tr>\n",
       "      <th>101763</th>\n",
       "      <td>443854148</td>\n",
       "      <td>41088789</td>\n",
       "      <td>Caucasian</td>\n",
       "      <td>Male</td>\n",
       "      <td>[70-80)</td>\n",
       "      <td>?</td>\n",
       "      <td>1</td>\n",
       "      <td>1</td>\n",
       "      <td>7</td>\n",
       "      <td>1</td>\n",
       "      <td>...</td>\n",
       "      <td>No</td>\n",
       "      <td>Down</td>\n",
       "      <td>No</td>\n",
       "      <td>No</td>\n",
       "      <td>No</td>\n",
       "      <td>No</td>\n",
       "      <td>No</td>\n",
       "      <td>Ch</td>\n",
       "      <td>Yes</td>\n",
       "      <td>NO</td>\n",
       "    </tr>\n",
       "    <tr>\n",
       "      <th>101764</th>\n",
       "      <td>443857166</td>\n",
       "      <td>31693671</td>\n",
       "      <td>Caucasian</td>\n",
       "      <td>Female</td>\n",
       "      <td>[80-90)</td>\n",
       "      <td>?</td>\n",
       "      <td>2</td>\n",
       "      <td>3</td>\n",
       "      <td>7</td>\n",
       "      <td>10</td>\n",
       "      <td>...</td>\n",
       "      <td>No</td>\n",
       "      <td>Up</td>\n",
       "      <td>No</td>\n",
       "      <td>No</td>\n",
       "      <td>No</td>\n",
       "      <td>No</td>\n",
       "      <td>No</td>\n",
       "      <td>Ch</td>\n",
       "      <td>Yes</td>\n",
       "      <td>NO</td>\n",
       "    </tr>\n",
       "    <tr>\n",
       "      <th>101765</th>\n",
       "      <td>443867222</td>\n",
       "      <td>175429310</td>\n",
       "      <td>Caucasian</td>\n",
       "      <td>Male</td>\n",
       "      <td>[70-80)</td>\n",
       "      <td>?</td>\n",
       "      <td>1</td>\n",
       "      <td>1</td>\n",
       "      <td>7</td>\n",
       "      <td>6</td>\n",
       "      <td>...</td>\n",
       "      <td>No</td>\n",
       "      <td>No</td>\n",
       "      <td>No</td>\n",
       "      <td>No</td>\n",
       "      <td>No</td>\n",
       "      <td>No</td>\n",
       "      <td>No</td>\n",
       "      <td>No</td>\n",
       "      <td>No</td>\n",
       "      <td>NO</td>\n",
       "    </tr>\n",
       "  </tbody>\n",
       "</table>\n",
       "<p>5 rows × 50 columns</p>\n",
       "</div>"
      ],
      "text/plain": [
       "        encounter_id  patient_nbr             race  gender      age weight  \\\n",
       "101761     443847548    100162476  AfricanAmerican    Male  [70-80)      ?   \n",
       "101762     443847782     74694222  AfricanAmerican  Female  [80-90)      ?   \n",
       "101763     443854148     41088789        Caucasian    Male  [70-80)      ?   \n",
       "101764     443857166     31693671        Caucasian  Female  [80-90)      ?   \n",
       "101765     443867222    175429310        Caucasian    Male  [70-80)      ?   \n",
       "\n",
       "        admission_type_id  discharge_disposition_id  admission_source_id  \\\n",
       "101761                  1                         3                    7   \n",
       "101762                  1                         4                    5   \n",
       "101763                  1                         1                    7   \n",
       "101764                  2                         3                    7   \n",
       "101765                  1                         1                    7   \n",
       "\n",
       "        time_in_hospital  ... citoglipton insulin  glyburide-metformin  \\\n",
       "101761                 3  ...          No    Down                   No   \n",
       "101762                 5  ...          No  Steady                   No   \n",
       "101763                 1  ...          No    Down                   No   \n",
       "101764                10  ...          No      Up                   No   \n",
       "101765                 6  ...          No      No                   No   \n",
       "\n",
       "        glipizide-metformin  glimepiride-pioglitazone  \\\n",
       "101761                   No                        No   \n",
       "101762                   No                        No   \n",
       "101763                   No                        No   \n",
       "101764                   No                        No   \n",
       "101765                   No                        No   \n",
       "\n",
       "        metformin-rosiglitazone  metformin-pioglitazone  change diabetesMed  \\\n",
       "101761                       No                      No      Ch         Yes   \n",
       "101762                       No                      No      No         Yes   \n",
       "101763                       No                      No      Ch         Yes   \n",
       "101764                       No                      No      Ch         Yes   \n",
       "101765                       No                      No      No          No   \n",
       "\n",
       "       readmitted  \n",
       "101761        >30  \n",
       "101762         NO  \n",
       "101763         NO  \n",
       "101764         NO  \n",
       "101765         NO  \n",
       "\n",
       "[5 rows x 50 columns]"
      ]
     },
     "execution_count": 3,
     "metadata": {},
     "output_type": "execute_result"
    }
   ],
   "source": [
    "data.tail() #display the last 5 rowws of our dataset"
   ]
  },
  {
   "cell_type": "code",
   "execution_count": 4,
   "id": "02e900d7",
   "metadata": {},
   "outputs": [
    {
     "data": {
      "text/plain": [
       "(101766, 50)"
      ]
     },
     "execution_count": 4,
     "metadata": {},
     "output_type": "execute_result"
    }
   ],
   "source": [
    "data.shape #display the number of rows and columns in our dataset\n",
    "#it has 101,766 rows and 50 columns"
   ]
  },
  {
   "cell_type": "code",
   "execution_count": 5,
   "id": "e00f784b",
   "metadata": {},
   "outputs": [
    {
     "name": "stdout",
     "output_type": "stream",
     "text": [
      "<class 'pandas.core.frame.DataFrame'>\n",
      "RangeIndex: 101766 entries, 0 to 101765\n",
      "Data columns (total 50 columns):\n",
      " #   Column                    Non-Null Count   Dtype \n",
      "---  ------                    --------------   ----- \n",
      " 0   encounter_id              101766 non-null  int64 \n",
      " 1   patient_nbr               101766 non-null  int64 \n",
      " 2   race                      101766 non-null  object\n",
      " 3   gender                    101766 non-null  object\n",
      " 4   age                       101766 non-null  object\n",
      " 5   weight                    101766 non-null  object\n",
      " 6   admission_type_id         101766 non-null  int64 \n",
      " 7   discharge_disposition_id  101766 non-null  int64 \n",
      " 8   admission_source_id       101766 non-null  int64 \n",
      " 9   time_in_hospital          101766 non-null  int64 \n",
      " 10  payer_code                101766 non-null  object\n",
      " 11  medical_specialty         101766 non-null  object\n",
      " 12  num_lab_procedures        101766 non-null  int64 \n",
      " 13  num_procedures            101766 non-null  int64 \n",
      " 14  num_medications           101766 non-null  int64 \n",
      " 15  number_outpatient         101766 non-null  int64 \n",
      " 16  number_emergency          101766 non-null  int64 \n",
      " 17  number_inpatient          101766 non-null  int64 \n",
      " 18  diag_1                    101766 non-null  object\n",
      " 19  diag_2                    101766 non-null  object\n",
      " 20  diag_3                    101766 non-null  object\n",
      " 21  number_diagnoses          101766 non-null  int64 \n",
      " 22  max_glu_serum             101766 non-null  object\n",
      " 23  A1Cresult                 101766 non-null  object\n",
      " 24  metformin                 101766 non-null  object\n",
      " 25  repaglinide               101766 non-null  object\n",
      " 26  nateglinide               101766 non-null  object\n",
      " 27  chlorpropamide            101766 non-null  object\n",
      " 28  glimepiride               101766 non-null  object\n",
      " 29  acetohexamide             101766 non-null  object\n",
      " 30  glipizide                 101766 non-null  object\n",
      " 31  glyburide                 101766 non-null  object\n",
      " 32  tolbutamide               101766 non-null  object\n",
      " 33  pioglitazone              101766 non-null  object\n",
      " 34  rosiglitazone             101766 non-null  object\n",
      " 35  acarbose                  101766 non-null  object\n",
      " 36  miglitol                  101766 non-null  object\n",
      " 37  troglitazone              101766 non-null  object\n",
      " 38  tolazamide                101766 non-null  object\n",
      " 39  examide                   101766 non-null  object\n",
      " 40  citoglipton               101766 non-null  object\n",
      " 41  insulin                   101766 non-null  object\n",
      " 42  glyburide-metformin       101766 non-null  object\n",
      " 43  glipizide-metformin       101766 non-null  object\n",
      " 44  glimepiride-pioglitazone  101766 non-null  object\n",
      " 45  metformin-rosiglitazone   101766 non-null  object\n",
      " 46  metformin-pioglitazone    101766 non-null  object\n",
      " 47  change                    101766 non-null  object\n",
      " 48  diabetesMed               101766 non-null  object\n",
      " 49  readmitted                101766 non-null  object\n",
      "dtypes: int64(13), object(37)\n",
      "memory usage: 38.8+ MB\n"
     ]
    }
   ],
   "source": [
    "data.info() #display information about the dataset"
   ]
  },
  {
   "cell_type": "code",
   "execution_count": 6,
   "id": "d27d4d7e",
   "metadata": {},
   "outputs": [
    {
     "data": {
      "text/plain": [
       "Index(['encounter_id', 'patient_nbr', 'race', 'gender', 'age', 'weight',\n",
       "       'admission_type_id', 'discharge_disposition_id', 'admission_source_id',\n",
       "       'time_in_hospital', 'payer_code', 'medical_specialty',\n",
       "       'num_lab_procedures', 'num_procedures', 'num_medications',\n",
       "       'number_outpatient', 'number_emergency', 'number_inpatient', 'diag_1',\n",
       "       'diag_2', 'diag_3', 'number_diagnoses', 'max_glu_serum', 'A1Cresult',\n",
       "       'metformin', 'repaglinide', 'nateglinide', 'chlorpropamide',\n",
       "       'glimepiride', 'acetohexamide', 'glipizide', 'glyburide', 'tolbutamide',\n",
       "       'pioglitazone', 'rosiglitazone', 'acarbose', 'miglitol', 'troglitazone',\n",
       "       'tolazamide', 'examide', 'citoglipton', 'insulin',\n",
       "       'glyburide-metformin', 'glipizide-metformin',\n",
       "       'glimepiride-pioglitazone', 'metformin-rosiglitazone',\n",
       "       'metformin-pioglitazone', 'change', 'diabetesMed', 'readmitted'],\n",
       "      dtype='object')"
      ]
     },
     "execution_count": 6,
     "metadata": {},
     "output_type": "execute_result"
    }
   ],
   "source": [
    "data.columns #display the column names in our dataset"
   ]
  },
  {
   "cell_type": "code",
   "execution_count": 7,
   "id": "b64b1442",
   "metadata": {},
   "outputs": [
    {
     "data": {
      "text/html": [
       "<div>\n",
       "<style scoped>\n",
       "    .dataframe tbody tr th:only-of-type {\n",
       "        vertical-align: middle;\n",
       "    }\n",
       "\n",
       "    .dataframe tbody tr th {\n",
       "        vertical-align: top;\n",
       "    }\n",
       "\n",
       "    .dataframe thead th {\n",
       "        text-align: right;\n",
       "    }\n",
       "</style>\n",
       "<table border=\"1\" class=\"dataframe\">\n",
       "  <thead>\n",
       "    <tr style=\"text-align: right;\">\n",
       "      <th></th>\n",
       "      <th>admission_type_id</th>\n",
       "      <th>description</th>\n",
       "    </tr>\n",
       "  </thead>\n",
       "  <tbody>\n",
       "    <tr>\n",
       "      <th>0</th>\n",
       "      <td>1</td>\n",
       "      <td>Emergency</td>\n",
       "    </tr>\n",
       "    <tr>\n",
       "      <th>1</th>\n",
       "      <td>2</td>\n",
       "      <td>Urgent</td>\n",
       "    </tr>\n",
       "    <tr>\n",
       "      <th>2</th>\n",
       "      <td>3</td>\n",
       "      <td>Elective</td>\n",
       "    </tr>\n",
       "    <tr>\n",
       "      <th>3</th>\n",
       "      <td>4</td>\n",
       "      <td>Newborn</td>\n",
       "    </tr>\n",
       "    <tr>\n",
       "      <th>4</th>\n",
       "      <td>5</td>\n",
       "      <td>Not Available</td>\n",
       "    </tr>\n",
       "    <tr>\n",
       "      <th>...</th>\n",
       "      <td>...</td>\n",
       "      <td>...</td>\n",
       "    </tr>\n",
       "    <tr>\n",
       "      <th>62</th>\n",
       "      <td>22</td>\n",
       "      <td>Transfer from hospital inpt/same fac reslt in...</td>\n",
       "    </tr>\n",
       "    <tr>\n",
       "      <th>63</th>\n",
       "      <td>23</td>\n",
       "      <td>Born inside this hospital</td>\n",
       "    </tr>\n",
       "    <tr>\n",
       "      <th>64</th>\n",
       "      <td>24</td>\n",
       "      <td>Born outside this hospital</td>\n",
       "    </tr>\n",
       "    <tr>\n",
       "      <th>65</th>\n",
       "      <td>25</td>\n",
       "      <td>Transfer from Ambulatory Surgery Center</td>\n",
       "    </tr>\n",
       "    <tr>\n",
       "      <th>66</th>\n",
       "      <td>26</td>\n",
       "      <td>Transfer from Hospice</td>\n",
       "    </tr>\n",
       "  </tbody>\n",
       "</table>\n",
       "<p>67 rows × 2 columns</p>\n",
       "</div>"
      ],
      "text/plain": [
       "   admission_type_id                                        description\n",
       "0                  1                                          Emergency\n",
       "1                  2                                             Urgent\n",
       "2                  3                                           Elective\n",
       "3                  4                                            Newborn\n",
       "4                  5                                      Not Available\n",
       "..               ...                                                ...\n",
       "62                22   Transfer from hospital inpt/same fac reslt in...\n",
       "63                23                          Born inside this hospital\n",
       "64                24                         Born outside this hospital\n",
       "65                25            Transfer from Ambulatory Surgery Center\n",
       "66                26                              Transfer from Hospice\n",
       "\n",
       "[67 rows x 2 columns]"
      ]
     },
     "execution_count": 7,
     "metadata": {},
     "output_type": "execute_result"
    }
   ],
   "source": [
    "column_desc = pd.read_csv('C:/Users/hp/Desktop/DATA NEXUS PROJECTS/Diabetes_130-US_Hospitals_1999-2008/IDS_mapping.csv')\n",
    "column_desc"
   ]
  },
  {
   "cell_type": "code",
   "execution_count": 8,
   "id": "f801e00b",
   "metadata": {},
   "outputs": [
    {
     "data": {
      "text/html": [
       "<div>\n",
       "<style scoped>\n",
       "    .dataframe tbody tr th:only-of-type {\n",
       "        vertical-align: middle;\n",
       "    }\n",
       "\n",
       "    .dataframe tbody tr th {\n",
       "        vertical-align: top;\n",
       "    }\n",
       "\n",
       "    .dataframe thead th {\n",
       "        text-align: right;\n",
       "    }\n",
       "</style>\n",
       "<table border=\"1\" class=\"dataframe\">\n",
       "  <thead>\n",
       "    <tr style=\"text-align: right;\">\n",
       "      <th></th>\n",
       "      <th>count</th>\n",
       "      <th>mean</th>\n",
       "      <th>std</th>\n",
       "      <th>min</th>\n",
       "      <th>25%</th>\n",
       "      <th>50%</th>\n",
       "      <th>75%</th>\n",
       "      <th>max</th>\n",
       "    </tr>\n",
       "  </thead>\n",
       "  <tbody>\n",
       "    <tr>\n",
       "      <th>encounter_id</th>\n",
       "      <td>101766.0</td>\n",
       "      <td>1.652016e+08</td>\n",
       "      <td>1.026403e+08</td>\n",
       "      <td>12522.0</td>\n",
       "      <td>84961194.0</td>\n",
       "      <td>152388987.0</td>\n",
       "      <td>2.302709e+08</td>\n",
       "      <td>443867222.0</td>\n",
       "    </tr>\n",
       "    <tr>\n",
       "      <th>patient_nbr</th>\n",
       "      <td>101766.0</td>\n",
       "      <td>5.433040e+07</td>\n",
       "      <td>3.869636e+07</td>\n",
       "      <td>135.0</td>\n",
       "      <td>23413221.0</td>\n",
       "      <td>45505143.0</td>\n",
       "      <td>8.754595e+07</td>\n",
       "      <td>189502619.0</td>\n",
       "    </tr>\n",
       "    <tr>\n",
       "      <th>admission_type_id</th>\n",
       "      <td>101766.0</td>\n",
       "      <td>2.024006e+00</td>\n",
       "      <td>1.445403e+00</td>\n",
       "      <td>1.0</td>\n",
       "      <td>1.0</td>\n",
       "      <td>1.0</td>\n",
       "      <td>3.000000e+00</td>\n",
       "      <td>8.0</td>\n",
       "    </tr>\n",
       "    <tr>\n",
       "      <th>discharge_disposition_id</th>\n",
       "      <td>101766.0</td>\n",
       "      <td>3.715642e+00</td>\n",
       "      <td>5.280166e+00</td>\n",
       "      <td>1.0</td>\n",
       "      <td>1.0</td>\n",
       "      <td>1.0</td>\n",
       "      <td>4.000000e+00</td>\n",
       "      <td>28.0</td>\n",
       "    </tr>\n",
       "    <tr>\n",
       "      <th>admission_source_id</th>\n",
       "      <td>101766.0</td>\n",
       "      <td>5.754437e+00</td>\n",
       "      <td>4.064081e+00</td>\n",
       "      <td>1.0</td>\n",
       "      <td>1.0</td>\n",
       "      <td>7.0</td>\n",
       "      <td>7.000000e+00</td>\n",
       "      <td>25.0</td>\n",
       "    </tr>\n",
       "    <tr>\n",
       "      <th>time_in_hospital</th>\n",
       "      <td>101766.0</td>\n",
       "      <td>4.395987e+00</td>\n",
       "      <td>2.985108e+00</td>\n",
       "      <td>1.0</td>\n",
       "      <td>2.0</td>\n",
       "      <td>4.0</td>\n",
       "      <td>6.000000e+00</td>\n",
       "      <td>14.0</td>\n",
       "    </tr>\n",
       "    <tr>\n",
       "      <th>num_lab_procedures</th>\n",
       "      <td>101766.0</td>\n",
       "      <td>4.309564e+01</td>\n",
       "      <td>1.967436e+01</td>\n",
       "      <td>1.0</td>\n",
       "      <td>31.0</td>\n",
       "      <td>44.0</td>\n",
       "      <td>5.700000e+01</td>\n",
       "      <td>132.0</td>\n",
       "    </tr>\n",
       "    <tr>\n",
       "      <th>num_procedures</th>\n",
       "      <td>101766.0</td>\n",
       "      <td>1.339730e+00</td>\n",
       "      <td>1.705807e+00</td>\n",
       "      <td>0.0</td>\n",
       "      <td>0.0</td>\n",
       "      <td>1.0</td>\n",
       "      <td>2.000000e+00</td>\n",
       "      <td>6.0</td>\n",
       "    </tr>\n",
       "    <tr>\n",
       "      <th>num_medications</th>\n",
       "      <td>101766.0</td>\n",
       "      <td>1.602184e+01</td>\n",
       "      <td>8.127566e+00</td>\n",
       "      <td>1.0</td>\n",
       "      <td>10.0</td>\n",
       "      <td>15.0</td>\n",
       "      <td>2.000000e+01</td>\n",
       "      <td>81.0</td>\n",
       "    </tr>\n",
       "    <tr>\n",
       "      <th>number_outpatient</th>\n",
       "      <td>101766.0</td>\n",
       "      <td>3.693572e-01</td>\n",
       "      <td>1.267265e+00</td>\n",
       "      <td>0.0</td>\n",
       "      <td>0.0</td>\n",
       "      <td>0.0</td>\n",
       "      <td>0.000000e+00</td>\n",
       "      <td>42.0</td>\n",
       "    </tr>\n",
       "    <tr>\n",
       "      <th>number_emergency</th>\n",
       "      <td>101766.0</td>\n",
       "      <td>1.978362e-01</td>\n",
       "      <td>9.304723e-01</td>\n",
       "      <td>0.0</td>\n",
       "      <td>0.0</td>\n",
       "      <td>0.0</td>\n",
       "      <td>0.000000e+00</td>\n",
       "      <td>76.0</td>\n",
       "    </tr>\n",
       "    <tr>\n",
       "      <th>number_inpatient</th>\n",
       "      <td>101766.0</td>\n",
       "      <td>6.355659e-01</td>\n",
       "      <td>1.262863e+00</td>\n",
       "      <td>0.0</td>\n",
       "      <td>0.0</td>\n",
       "      <td>0.0</td>\n",
       "      <td>1.000000e+00</td>\n",
       "      <td>21.0</td>\n",
       "    </tr>\n",
       "    <tr>\n",
       "      <th>number_diagnoses</th>\n",
       "      <td>101766.0</td>\n",
       "      <td>7.422607e+00</td>\n",
       "      <td>1.933600e+00</td>\n",
       "      <td>1.0</td>\n",
       "      <td>6.0</td>\n",
       "      <td>8.0</td>\n",
       "      <td>9.000000e+00</td>\n",
       "      <td>16.0</td>\n",
       "    </tr>\n",
       "  </tbody>\n",
       "</table>\n",
       "</div>"
      ],
      "text/plain": [
       "                             count          mean           std      min  \\\n",
       "encounter_id              101766.0  1.652016e+08  1.026403e+08  12522.0   \n",
       "patient_nbr               101766.0  5.433040e+07  3.869636e+07    135.0   \n",
       "admission_type_id         101766.0  2.024006e+00  1.445403e+00      1.0   \n",
       "discharge_disposition_id  101766.0  3.715642e+00  5.280166e+00      1.0   \n",
       "admission_source_id       101766.0  5.754437e+00  4.064081e+00      1.0   \n",
       "time_in_hospital          101766.0  4.395987e+00  2.985108e+00      1.0   \n",
       "num_lab_procedures        101766.0  4.309564e+01  1.967436e+01      1.0   \n",
       "num_procedures            101766.0  1.339730e+00  1.705807e+00      0.0   \n",
       "num_medications           101766.0  1.602184e+01  8.127566e+00      1.0   \n",
       "number_outpatient         101766.0  3.693572e-01  1.267265e+00      0.0   \n",
       "number_emergency          101766.0  1.978362e-01  9.304723e-01      0.0   \n",
       "number_inpatient          101766.0  6.355659e-01  1.262863e+00      0.0   \n",
       "number_diagnoses          101766.0  7.422607e+00  1.933600e+00      1.0   \n",
       "\n",
       "                                 25%          50%           75%          max  \n",
       "encounter_id              84961194.0  152388987.0  2.302709e+08  443867222.0  \n",
       "patient_nbr               23413221.0   45505143.0  8.754595e+07  189502619.0  \n",
       "admission_type_id                1.0          1.0  3.000000e+00          8.0  \n",
       "discharge_disposition_id         1.0          1.0  4.000000e+00         28.0  \n",
       "admission_source_id              1.0          7.0  7.000000e+00         25.0  \n",
       "time_in_hospital                 2.0          4.0  6.000000e+00         14.0  \n",
       "num_lab_procedures              31.0         44.0  5.700000e+01        132.0  \n",
       "num_procedures                   0.0          1.0  2.000000e+00          6.0  \n",
       "num_medications                 10.0         15.0  2.000000e+01         81.0  \n",
       "number_outpatient                0.0          0.0  0.000000e+00         42.0  \n",
       "number_emergency                 0.0          0.0  0.000000e+00         76.0  \n",
       "number_inpatient                 0.0          0.0  1.000000e+00         21.0  \n",
       "number_diagnoses                 6.0          8.0  9.000000e+00         16.0  "
      ]
     },
     "execution_count": 8,
     "metadata": {},
     "output_type": "execute_result"
    }
   ],
   "source": [
    "data.describe().T #display statistical summary of the data"
   ]
  },
  {
   "cell_type": "code",
   "execution_count": 9,
   "id": "195b49e0",
   "metadata": {},
   "outputs": [
    {
     "data": {
      "text/plain": [
       "encounter_id                 int64\n",
       "patient_nbr                  int64\n",
       "race                        object\n",
       "gender                      object\n",
       "age                         object\n",
       "weight                      object\n",
       "admission_type_id            int64\n",
       "discharge_disposition_id     int64\n",
       "admission_source_id          int64\n",
       "time_in_hospital             int64\n",
       "payer_code                  object\n",
       "medical_specialty           object\n",
       "num_lab_procedures           int64\n",
       "num_procedures               int64\n",
       "num_medications              int64\n",
       "number_outpatient            int64\n",
       "number_emergency             int64\n",
       "number_inpatient             int64\n",
       "diag_1                      object\n",
       "diag_2                      object\n",
       "diag_3                      object\n",
       "number_diagnoses             int64\n",
       "max_glu_serum               object\n",
       "A1Cresult                   object\n",
       "metformin                   object\n",
       "repaglinide                 object\n",
       "nateglinide                 object\n",
       "chlorpropamide              object\n",
       "glimepiride                 object\n",
       "acetohexamide               object\n",
       "glipizide                   object\n",
       "glyburide                   object\n",
       "tolbutamide                 object\n",
       "pioglitazone                object\n",
       "rosiglitazone               object\n",
       "acarbose                    object\n",
       "miglitol                    object\n",
       "troglitazone                object\n",
       "tolazamide                  object\n",
       "examide                     object\n",
       "citoglipton                 object\n",
       "insulin                     object\n",
       "glyburide-metformin         object\n",
       "glipizide-metformin         object\n",
       "glimepiride-pioglitazone    object\n",
       "metformin-rosiglitazone     object\n",
       "metformin-pioglitazone      object\n",
       "change                      object\n",
       "diabetesMed                 object\n",
       "readmitted                  object\n",
       "dtype: object"
      ]
     },
     "execution_count": 9,
     "metadata": {},
     "output_type": "execute_result"
    }
   ],
   "source": [
    "data.dtypes #display the datatype of each column\n",
    "#the data types represented are int64 (to represent numerical columns), and object (to represent categorical columns)"
   ]
  },
  {
   "cell_type": "code",
   "execution_count": 10,
   "id": "16a99c28",
   "metadata": {},
   "outputs": [
    {
     "data": {
      "text/plain": [
       "object    37\n",
       "int64     13\n",
       "dtype: int64"
      ]
     },
     "execution_count": 10,
     "metadata": {},
     "output_type": "execute_result"
    }
   ],
   "source": [
    "data.dtypes.value_counts() #our data has 37 columns with the object data type and 13 with the int64 data type"
   ]
  },
  {
   "cell_type": "markdown",
   "id": "a48cb488",
   "metadata": {},
   "source": [
    "## Data Cleaning"
   ]
  },
  {
   "cell_type": "markdown",
   "id": "2409cc07",
   "metadata": {},
   "source": [
    "The approach used is splitting the dataset into two groups: numerical and categorical columns. For each group, missing values are checked and handled to ensure the data is clean and ready for analysis."
   ]
  },
  {
   "cell_type": "markdown",
   "id": "9d6aa55e",
   "metadata": {},
   "source": [
    "### Categorical Columns Data Cleaning"
   ]
  },
  {
   "cell_type": "code",
   "execution_count": 11,
   "id": "b462e973",
   "metadata": {},
   "outputs": [
    {
     "data": {
      "text/plain": [
       "Index(['race', 'gender', 'age', 'weight', 'payer_code', 'medical_specialty',\n",
       "       'diag_1', 'diag_2', 'diag_3', 'max_glu_serum', 'A1Cresult', 'metformin',\n",
       "       'repaglinide', 'nateglinide', 'chlorpropamide', 'glimepiride',\n",
       "       'acetohexamide', 'glipizide', 'glyburide', 'tolbutamide',\n",
       "       'pioglitazone', 'rosiglitazone', 'acarbose', 'miglitol', 'troglitazone',\n",
       "       'tolazamide', 'examide', 'citoglipton', 'insulin',\n",
       "       'glyburide-metformin', 'glipizide-metformin',\n",
       "       'glimepiride-pioglitazone', 'metformin-rosiglitazone',\n",
       "       'metformin-pioglitazone', 'change', 'diabetesMed', 'readmitted'],\n",
       "      dtype='object')"
      ]
     },
     "execution_count": 11,
     "metadata": {},
     "output_type": "execute_result"
    }
   ],
   "source": [
    "categorical_col = data.select_dtypes(include=['object']).columns\n",
    "categorical_col"
   ]
  },
  {
   "cell_type": "code",
   "execution_count": 12,
   "id": "3e9c761a",
   "metadata": {},
   "outputs": [
    {
     "data": {
      "text/plain": [
       "race                        0\n",
       "gender                      0\n",
       "age                         0\n",
       "weight                      0\n",
       "payer_code                  0\n",
       "medical_specialty           0\n",
       "diag_1                      0\n",
       "diag_2                      0\n",
       "diag_3                      0\n",
       "max_glu_serum               0\n",
       "A1Cresult                   0\n",
       "metformin                   0\n",
       "repaglinide                 0\n",
       "nateglinide                 0\n",
       "chlorpropamide              0\n",
       "glimepiride                 0\n",
       "acetohexamide               0\n",
       "glipizide                   0\n",
       "glyburide                   0\n",
       "tolbutamide                 0\n",
       "pioglitazone                0\n",
       "rosiglitazone               0\n",
       "acarbose                    0\n",
       "miglitol                    0\n",
       "troglitazone                0\n",
       "tolazamide                  0\n",
       "examide                     0\n",
       "citoglipton                 0\n",
       "insulin                     0\n",
       "glyburide-metformin         0\n",
       "glipizide-metformin         0\n",
       "glimepiride-pioglitazone    0\n",
       "metformin-rosiglitazone     0\n",
       "metformin-pioglitazone      0\n",
       "change                      0\n",
       "diabetesMed                 0\n",
       "readmitted                  0\n",
       "dtype: int64"
      ]
     },
     "execution_count": 12,
     "metadata": {},
     "output_type": "execute_result"
    }
   ],
   "source": [
    "data.select_dtypes(include=['object']).isnull().sum() #check for missing values in the categorical columns\n"
   ]
  },
  {
   "cell_type": "markdown",
   "id": "8df7f90d",
   "metadata": {},
   "source": [
    "After checking for missing values in the categorical columns, it indicates that none of the columns have any misssing values.\n",
    "The next step, is to check whether all entries in the columns have the same structure"
   ]
  },
  {
   "cell_type": "code",
   "execution_count": 13,
   "id": "ad4b55a2",
   "metadata": {},
   "outputs": [],
   "source": [
    "import pandas as pd\n",
    "\n",
    "def categorical(data):\n",
    "   \n",
    "    # Iterate over each column\n",
    "    for column in data.columns:\n",
    "        # Check if the column is categorical, an object data type\n",
    "        if data[column].dtype == \"object\":\n",
    "            # Get the count of unique entries in the column\n",
    "            unique_entries = data[column].value_counts()\n",
    "            print(f\"Unique entries in column '{column}':\")\n",
    "            print(unique_entries)\n",
    "            print(\"\\n\")  \n"
   ]
  },
  {
   "cell_type": "code",
   "execution_count": 14,
   "id": "801463b8",
   "metadata": {},
   "outputs": [
    {
     "name": "stdout",
     "output_type": "stream",
     "text": [
      "Unique entries in column 'race':\n",
      "Caucasian          76099\n",
      "AfricanAmerican    19210\n",
      "?                   2273\n",
      "Hispanic            2037\n",
      "Other               1506\n",
      "Asian                641\n",
      "Name: race, dtype: int64\n",
      "\n",
      "\n",
      "Unique entries in column 'gender':\n",
      "Female             54708\n",
      "Male               47055\n",
      "Unknown/Invalid        3\n",
      "Name: gender, dtype: int64\n",
      "\n",
      "\n",
      "Unique entries in column 'age':\n",
      "[70-80)     26068\n",
      "[60-70)     22483\n",
      "[50-60)     17256\n",
      "[80-90)     17197\n",
      "[40-50)      9685\n",
      "[30-40)      3775\n",
      "[90-100)     2793\n",
      "[20-30)      1657\n",
      "[10-20)       691\n",
      "[0-10)        161\n",
      "Name: age, dtype: int64\n",
      "\n",
      "\n",
      "Unique entries in column 'weight':\n",
      "?            98569\n",
      "[75-100)      1336\n",
      "[50-75)        897\n",
      "[100-125)      625\n",
      "[125-150)      145\n",
      "[25-50)         97\n",
      "[0-25)          48\n",
      "[150-175)       35\n",
      "[175-200)       11\n",
      ">200             3\n",
      "Name: weight, dtype: int64\n",
      "\n",
      "\n",
      "Unique entries in column 'payer_code':\n",
      "?     40256\n",
      "MC    32439\n",
      "HM     6274\n",
      "SP     5007\n",
      "BC     4655\n",
      "MD     3532\n",
      "CP     2533\n",
      "UN     2448\n",
      "CM     1937\n",
      "OG     1033\n",
      "PO      592\n",
      "DM      549\n",
      "CH      146\n",
      "WC      135\n",
      "OT       95\n",
      "MP       79\n",
      "SI       55\n",
      "FR        1\n",
      "Name: payer_code, dtype: int64\n",
      "\n",
      "\n",
      "Unique entries in column 'medical_specialty':\n",
      "?                                49949\n",
      "InternalMedicine                 14635\n",
      "Emergency/Trauma                  7565\n",
      "Family/GeneralPractice            7440\n",
      "Cardiology                        5352\n",
      "                                 ...  \n",
      "SportsMedicine                       1\n",
      "Speech                               1\n",
      "Perinatology                         1\n",
      "Neurophysiology                      1\n",
      "Pediatrics-InfectiousDiseases        1\n",
      "Name: medical_specialty, Length: 73, dtype: int64\n",
      "\n",
      "\n",
      "Unique entries in column 'diag_1':\n",
      "428    6862\n",
      "414    6581\n",
      "786    4016\n",
      "410    3614\n",
      "486    3508\n",
      "       ... \n",
      "373       1\n",
      "314       1\n",
      "684       1\n",
      "217       1\n",
      "V51       1\n",
      "Name: diag_1, Length: 717, dtype: int64\n",
      "\n",
      "\n",
      "Unique entries in column 'diag_2':\n",
      "276     6752\n",
      "428     6662\n",
      "250     6071\n",
      "427     5036\n",
      "401     3736\n",
      "        ... \n",
      "E918       1\n",
      "46         1\n",
      "V13        1\n",
      "E850       1\n",
      "927        1\n",
      "Name: diag_2, Length: 749, dtype: int64\n",
      "\n",
      "\n",
      "Unique entries in column 'diag_3':\n",
      "250     11555\n",
      "401      8289\n",
      "276      5175\n",
      "428      4577\n",
      "427      3955\n",
      "        ...  \n",
      "657         1\n",
      "684         1\n",
      "603         1\n",
      "E826        1\n",
      "971         1\n",
      "Name: diag_3, Length: 790, dtype: int64\n",
      "\n",
      "\n",
      "Unique entries in column 'max_glu_serum':\n",
      "None    96420\n",
      "Norm     2597\n",
      ">200     1485\n",
      ">300     1264\n",
      "Name: max_glu_serum, dtype: int64\n",
      "\n",
      "\n",
      "Unique entries in column 'A1Cresult':\n",
      "None    84748\n",
      ">8       8216\n",
      "Norm     4990\n",
      ">7       3812\n",
      "Name: A1Cresult, dtype: int64\n",
      "\n",
      "\n",
      "Unique entries in column 'metformin':\n",
      "No        81778\n",
      "Steady    18346\n",
      "Up         1067\n",
      "Down        575\n",
      "Name: metformin, dtype: int64\n",
      "\n",
      "\n",
      "Unique entries in column 'repaglinide':\n",
      "No        100227\n",
      "Steady      1384\n",
      "Up           110\n",
      "Down          45\n",
      "Name: repaglinide, dtype: int64\n",
      "\n",
      "\n",
      "Unique entries in column 'nateglinide':\n",
      "No        101063\n",
      "Steady       668\n",
      "Up            24\n",
      "Down          11\n",
      "Name: nateglinide, dtype: int64\n",
      "\n",
      "\n",
      "Unique entries in column 'chlorpropamide':\n",
      "No        101680\n",
      "Steady        79\n",
      "Up             6\n",
      "Down           1\n",
      "Name: chlorpropamide, dtype: int64\n",
      "\n",
      "\n",
      "Unique entries in column 'glimepiride':\n",
      "No        96575\n",
      "Steady     4670\n",
      "Up          327\n",
      "Down        194\n",
      "Name: glimepiride, dtype: int64\n",
      "\n",
      "\n",
      "Unique entries in column 'acetohexamide':\n",
      "No        101765\n",
      "Steady         1\n",
      "Name: acetohexamide, dtype: int64\n",
      "\n",
      "\n",
      "Unique entries in column 'glipizide':\n",
      "No        89080\n",
      "Steady    11356\n",
      "Up          770\n",
      "Down        560\n",
      "Name: glipizide, dtype: int64\n",
      "\n",
      "\n",
      "Unique entries in column 'glyburide':\n",
      "No        91116\n",
      "Steady     9274\n",
      "Up          812\n",
      "Down        564\n",
      "Name: glyburide, dtype: int64\n",
      "\n",
      "\n",
      "Unique entries in column 'tolbutamide':\n",
      "No        101743\n",
      "Steady        23\n",
      "Name: tolbutamide, dtype: int64\n",
      "\n",
      "\n",
      "Unique entries in column 'pioglitazone':\n",
      "No        94438\n",
      "Steady     6976\n",
      "Up          234\n",
      "Down        118\n",
      "Name: pioglitazone, dtype: int64\n",
      "\n",
      "\n",
      "Unique entries in column 'rosiglitazone':\n",
      "No        95401\n",
      "Steady     6100\n",
      "Up          178\n",
      "Down         87\n",
      "Name: rosiglitazone, dtype: int64\n",
      "\n",
      "\n",
      "Unique entries in column 'acarbose':\n",
      "No        101458\n",
      "Steady       295\n",
      "Up            10\n",
      "Down           3\n",
      "Name: acarbose, dtype: int64\n",
      "\n",
      "\n",
      "Unique entries in column 'miglitol':\n",
      "No        101728\n",
      "Steady        31\n",
      "Down           5\n",
      "Up             2\n",
      "Name: miglitol, dtype: int64\n",
      "\n",
      "\n",
      "Unique entries in column 'troglitazone':\n",
      "No        101763\n",
      "Steady         3\n",
      "Name: troglitazone, dtype: int64\n",
      "\n",
      "\n",
      "Unique entries in column 'tolazamide':\n",
      "No        101727\n",
      "Steady        38\n",
      "Up             1\n",
      "Name: tolazamide, dtype: int64\n",
      "\n",
      "\n",
      "Unique entries in column 'examide':\n",
      "No    101766\n",
      "Name: examide, dtype: int64\n",
      "\n",
      "\n",
      "Unique entries in column 'citoglipton':\n",
      "No    101766\n",
      "Name: citoglipton, dtype: int64\n",
      "\n",
      "\n",
      "Unique entries in column 'insulin':\n",
      "No        47383\n",
      "Steady    30849\n",
      "Down      12218\n",
      "Up        11316\n",
      "Name: insulin, dtype: int64\n",
      "\n",
      "\n",
      "Unique entries in column 'glyburide-metformin':\n",
      "No        101060\n",
      "Steady       692\n",
      "Up             8\n",
      "Down           6\n",
      "Name: glyburide-metformin, dtype: int64\n",
      "\n",
      "\n",
      "Unique entries in column 'glipizide-metformin':\n",
      "No        101753\n",
      "Steady        13\n",
      "Name: glipizide-metformin, dtype: int64\n",
      "\n",
      "\n",
      "Unique entries in column 'glimepiride-pioglitazone':\n",
      "No        101765\n",
      "Steady         1\n",
      "Name: glimepiride-pioglitazone, dtype: int64\n",
      "\n",
      "\n",
      "Unique entries in column 'metformin-rosiglitazone':\n",
      "No        101764\n",
      "Steady         2\n",
      "Name: metformin-rosiglitazone, dtype: int64\n",
      "\n",
      "\n",
      "Unique entries in column 'metformin-pioglitazone':\n",
      "No        101765\n",
      "Steady         1\n",
      "Name: metformin-pioglitazone, dtype: int64\n",
      "\n",
      "\n",
      "Unique entries in column 'change':\n",
      "No    54755\n",
      "Ch    47011\n",
      "Name: change, dtype: int64\n",
      "\n",
      "\n",
      "Unique entries in column 'diabetesMed':\n",
      "Yes    78363\n",
      "No     23403\n",
      "Name: diabetesMed, dtype: int64\n",
      "\n",
      "\n",
      "Unique entries in column 'readmitted':\n",
      "NO     54864\n",
      ">30    35545\n",
      "<30    11357\n",
      "Name: readmitted, dtype: int64\n",
      "\n",
      "\n"
     ]
    }
   ],
   "source": [
    "categorical(data)"
   ]
  },
  {
   "cell_type": "markdown",
   "id": "d01b7ff0",
   "metadata": {},
   "source": [
    "Based on the output of the above, it is worth noting that most of the data in each column is consistent. However, some columns such as race, weight,payer_code and medical_speciality have a '?' entry which may represent missing entries. For better understandability of the project, we replace ? with NaN"
   ]
  },
  {
   "cell_type": "code",
   "execution_count": 15,
   "id": "78f53634",
   "metadata": {},
   "outputs": [
    {
     "data": {
      "text/html": [
       "<div>\n",
       "<style scoped>\n",
       "    .dataframe tbody tr th:only-of-type {\n",
       "        vertical-align: middle;\n",
       "    }\n",
       "\n",
       "    .dataframe tbody tr th {\n",
       "        vertical-align: top;\n",
       "    }\n",
       "\n",
       "    .dataframe thead th {\n",
       "        text-align: right;\n",
       "    }\n",
       "</style>\n",
       "<table border=\"1\" class=\"dataframe\">\n",
       "  <thead>\n",
       "    <tr style=\"text-align: right;\">\n",
       "      <th></th>\n",
       "      <th>encounter_id</th>\n",
       "      <th>patient_nbr</th>\n",
       "      <th>race</th>\n",
       "      <th>gender</th>\n",
       "      <th>age</th>\n",
       "      <th>weight</th>\n",
       "      <th>admission_type_id</th>\n",
       "      <th>discharge_disposition_id</th>\n",
       "      <th>admission_source_id</th>\n",
       "      <th>time_in_hospital</th>\n",
       "      <th>...</th>\n",
       "      <th>citoglipton</th>\n",
       "      <th>insulin</th>\n",
       "      <th>glyburide-metformin</th>\n",
       "      <th>glipizide-metformin</th>\n",
       "      <th>glimepiride-pioglitazone</th>\n",
       "      <th>metformin-rosiglitazone</th>\n",
       "      <th>metformin-pioglitazone</th>\n",
       "      <th>change</th>\n",
       "      <th>diabetesMed</th>\n",
       "      <th>readmitted</th>\n",
       "    </tr>\n",
       "  </thead>\n",
       "  <tbody>\n",
       "    <tr>\n",
       "      <th>0</th>\n",
       "      <td>2278392</td>\n",
       "      <td>8222157</td>\n",
       "      <td>Caucasian</td>\n",
       "      <td>Female</td>\n",
       "      <td>[0-10)</td>\n",
       "      <td>NaN</td>\n",
       "      <td>6</td>\n",
       "      <td>25</td>\n",
       "      <td>1</td>\n",
       "      <td>1</td>\n",
       "      <td>...</td>\n",
       "      <td>No</td>\n",
       "      <td>No</td>\n",
       "      <td>No</td>\n",
       "      <td>No</td>\n",
       "      <td>No</td>\n",
       "      <td>No</td>\n",
       "      <td>No</td>\n",
       "      <td>No</td>\n",
       "      <td>No</td>\n",
       "      <td>NO</td>\n",
       "    </tr>\n",
       "    <tr>\n",
       "      <th>1</th>\n",
       "      <td>149190</td>\n",
       "      <td>55629189</td>\n",
       "      <td>Caucasian</td>\n",
       "      <td>Female</td>\n",
       "      <td>[10-20)</td>\n",
       "      <td>NaN</td>\n",
       "      <td>1</td>\n",
       "      <td>1</td>\n",
       "      <td>7</td>\n",
       "      <td>3</td>\n",
       "      <td>...</td>\n",
       "      <td>No</td>\n",
       "      <td>Up</td>\n",
       "      <td>No</td>\n",
       "      <td>No</td>\n",
       "      <td>No</td>\n",
       "      <td>No</td>\n",
       "      <td>No</td>\n",
       "      <td>Ch</td>\n",
       "      <td>Yes</td>\n",
       "      <td>&gt;30</td>\n",
       "    </tr>\n",
       "    <tr>\n",
       "      <th>2</th>\n",
       "      <td>64410</td>\n",
       "      <td>86047875</td>\n",
       "      <td>AfricanAmerican</td>\n",
       "      <td>Female</td>\n",
       "      <td>[20-30)</td>\n",
       "      <td>NaN</td>\n",
       "      <td>1</td>\n",
       "      <td>1</td>\n",
       "      <td>7</td>\n",
       "      <td>2</td>\n",
       "      <td>...</td>\n",
       "      <td>No</td>\n",
       "      <td>No</td>\n",
       "      <td>No</td>\n",
       "      <td>No</td>\n",
       "      <td>No</td>\n",
       "      <td>No</td>\n",
       "      <td>No</td>\n",
       "      <td>No</td>\n",
       "      <td>Yes</td>\n",
       "      <td>NO</td>\n",
       "    </tr>\n",
       "    <tr>\n",
       "      <th>3</th>\n",
       "      <td>500364</td>\n",
       "      <td>82442376</td>\n",
       "      <td>Caucasian</td>\n",
       "      <td>Male</td>\n",
       "      <td>[30-40)</td>\n",
       "      <td>NaN</td>\n",
       "      <td>1</td>\n",
       "      <td>1</td>\n",
       "      <td>7</td>\n",
       "      <td>2</td>\n",
       "      <td>...</td>\n",
       "      <td>No</td>\n",
       "      <td>Up</td>\n",
       "      <td>No</td>\n",
       "      <td>No</td>\n",
       "      <td>No</td>\n",
       "      <td>No</td>\n",
       "      <td>No</td>\n",
       "      <td>Ch</td>\n",
       "      <td>Yes</td>\n",
       "      <td>NO</td>\n",
       "    </tr>\n",
       "    <tr>\n",
       "      <th>4</th>\n",
       "      <td>16680</td>\n",
       "      <td>42519267</td>\n",
       "      <td>Caucasian</td>\n",
       "      <td>Male</td>\n",
       "      <td>[40-50)</td>\n",
       "      <td>NaN</td>\n",
       "      <td>1</td>\n",
       "      <td>1</td>\n",
       "      <td>7</td>\n",
       "      <td>1</td>\n",
       "      <td>...</td>\n",
       "      <td>No</td>\n",
       "      <td>Steady</td>\n",
       "      <td>No</td>\n",
       "      <td>No</td>\n",
       "      <td>No</td>\n",
       "      <td>No</td>\n",
       "      <td>No</td>\n",
       "      <td>Ch</td>\n",
       "      <td>Yes</td>\n",
       "      <td>NO</td>\n",
       "    </tr>\n",
       "  </tbody>\n",
       "</table>\n",
       "<p>5 rows × 50 columns</p>\n",
       "</div>"
      ],
      "text/plain": [
       "   encounter_id  patient_nbr             race  gender      age weight  \\\n",
       "0       2278392      8222157        Caucasian  Female   [0-10)    NaN   \n",
       "1        149190     55629189        Caucasian  Female  [10-20)    NaN   \n",
       "2         64410     86047875  AfricanAmerican  Female  [20-30)    NaN   \n",
       "3        500364     82442376        Caucasian    Male  [30-40)    NaN   \n",
       "4         16680     42519267        Caucasian    Male  [40-50)    NaN   \n",
       "\n",
       "   admission_type_id  discharge_disposition_id  admission_source_id  \\\n",
       "0                  6                        25                    1   \n",
       "1                  1                         1                    7   \n",
       "2                  1                         1                    7   \n",
       "3                  1                         1                    7   \n",
       "4                  1                         1                    7   \n",
       "\n",
       "   time_in_hospital  ... citoglipton insulin  glyburide-metformin  \\\n",
       "0                 1  ...          No      No                   No   \n",
       "1                 3  ...          No      Up                   No   \n",
       "2                 2  ...          No      No                   No   \n",
       "3                 2  ...          No      Up                   No   \n",
       "4                 1  ...          No  Steady                   No   \n",
       "\n",
       "   glipizide-metformin  glimepiride-pioglitazone  metformin-rosiglitazone  \\\n",
       "0                   No                        No                       No   \n",
       "1                   No                        No                       No   \n",
       "2                   No                        No                       No   \n",
       "3                   No                        No                       No   \n",
       "4                   No                        No                       No   \n",
       "\n",
       "   metformin-pioglitazone  change diabetesMed readmitted  \n",
       "0                      No      No          No         NO  \n",
       "1                      No      Ch         Yes        >30  \n",
       "2                      No      No         Yes         NO  \n",
       "3                      No      Ch         Yes         NO  \n",
       "4                      No      Ch         Yes         NO  \n",
       "\n",
       "[5 rows x 50 columns]"
      ]
     },
     "execution_count": 15,
     "metadata": {},
     "output_type": "execute_result"
    }
   ],
   "source": [
    "import numpy as np\n",
    "data.replace('?', np.nan , inplace=True)\n",
    "data.head()"
   ]
  },
  {
   "cell_type": "markdown",
   "id": "ba8dba2c",
   "metadata": {},
   "source": [
    "#### Race Column"
   ]
  },
  {
   "cell_type": "code",
   "execution_count": 16,
   "id": "95e3d0a1",
   "metadata": {},
   "outputs": [
    {
     "data": {
      "text/plain": [
       "2273"
      ]
     },
     "execution_count": 16,
     "metadata": {},
     "output_type": "execute_result"
    }
   ],
   "source": [
    "data['race'].isna().sum() #race has 2273 missing values"
   ]
  },
  {
   "cell_type": "code",
   "execution_count": 17,
   "id": "bafa551e",
   "metadata": {},
   "outputs": [
    {
     "name": "stdout",
     "output_type": "stream",
     "text": [
      "Requirement already satisfied: missingno in c:\\programdata\\anaconda3\\lib\\site-packages (0.5.2)\n",
      "Requirement already satisfied: fancyimpute in c:\\programdata\\anaconda3\\lib\\site-packages (0.7.0)\n",
      "Requirement already satisfied: numpy in c:\\programdata\\anaconda3\\lib\\site-packages (from missingno) (1.20.3)\n",
      "Requirement already satisfied: matplotlib in c:\\programdata\\anaconda3\\lib\\site-packages (from missingno) (3.4.3)\n",
      "Requirement already satisfied: scipy in c:\\programdata\\anaconda3\\lib\\site-packages (from missingno) (1.7.1)\n",
      "Requirement already satisfied: seaborn in c:\\programdata\\anaconda3\\lib\\site-packages (from missingno) (0.11.2)\n",
      "Requirement already satisfied: knnimpute>=0.1.0 in c:\\programdata\\anaconda3\\lib\\site-packages (from fancyimpute) (0.1.0)\n",
      "Requirement already satisfied: scikit-learn>=0.24.2 in c:\\users\\hp\\appdata\\roaming\\python\\python39\\site-packages (from fancyimpute) (1.5.2)\n",
      "Requirement already satisfied: cvxpy in c:\\programdata\\anaconda3\\lib\\site-packages (from fancyimpute) (1.6.0)\n",
      "Requirement already satisfied: cvxopt in c:\\programdata\\anaconda3\\lib\\site-packages (from fancyimpute) (1.3.2)\n",
      "Requirement already satisfied: pytest in c:\\programdata\\anaconda3\\lib\\site-packages (from fancyimpute) (6.2.4)\n",
      "Requirement already satisfied: nose in c:\\programdata\\anaconda3\\lib\\site-packages (from fancyimpute) (1.3.7)\n",
      "Requirement already satisfied: six in c:\\programdata\\anaconda3\\lib\\site-packages (from knnimpute>=0.1.0->fancyimpute) (1.16.0)\n",
      "Requirement already satisfied: joblib>=1.2.0 in c:\\users\\hp\\appdata\\roaming\\python\\python39\\site-packages (from scikit-learn>=0.24.2->fancyimpute) (1.4.2)\n",
      "Requirement already satisfied: threadpoolctl>=3.1.0 in c:\\users\\hp\\appdata\\roaming\\python\\python39\\site-packages (from scikit-learn>=0.24.2->fancyimpute) (3.5.0)\n",
      "Requirement already satisfied: osqp>=0.6.2 in c:\\programdata\\anaconda3\\lib\\site-packages (from cvxpy->fancyimpute) (0.6.7.post3)\n",
      "Requirement already satisfied: clarabel>=0.5.0 in c:\\programdata\\anaconda3\\lib\\site-packages (from cvxpy->fancyimpute) (0.10.0)\n",
      "Requirement already satisfied: scs>=3.2.4.post1 in c:\\programdata\\anaconda3\\lib\\site-packages (from cvxpy->fancyimpute) (3.2.7.post2)\n",
      "Requirement already satisfied: cycler>=0.10 in c:\\programdata\\anaconda3\\lib\\site-packages (from matplotlib->missingno) (0.10.0)\n",
      "Requirement already satisfied: kiwisolver>=1.0.1 in c:\\programdata\\anaconda3\\lib\\site-packages (from matplotlib->missingno) (1.3.1)\n",
      "Requirement already satisfied: pillow>=6.2.0 in c:\\programdata\\anaconda3\\lib\\site-packages (from matplotlib->missingno) (8.4.0)\n",
      "Requirement already satisfied: pyparsing>=2.2.1 in c:\\programdata\\anaconda3\\lib\\site-packages (from matplotlib->missingno) (3.0.4)\n",
      "Requirement already satisfied: python-dateutil>=2.7 in c:\\programdata\\anaconda3\\lib\\site-packages (from matplotlib->missingno) (2.8.2)\n",
      "Requirement already satisfied: attrs>=19.2.0 in c:\\programdata\\anaconda3\\lib\\site-packages (from pytest->fancyimpute) (21.2.0)\n",
      "Requirement already satisfied: iniconfig in c:\\programdata\\anaconda3\\lib\\site-packages (from pytest->fancyimpute) (1.1.1)\n",
      "Requirement already satisfied: packaging in c:\\programdata\\anaconda3\\lib\\site-packages (from pytest->fancyimpute) (21.0)\n",
      "Requirement already satisfied: pluggy<1.0.0a1,>=0.12 in c:\\programdata\\anaconda3\\lib\\site-packages (from pytest->fancyimpute) (0.13.1)\n",
      "Requirement already satisfied: py>=1.8.2 in c:\\programdata\\anaconda3\\lib\\site-packages (from pytest->fancyimpute) (1.10.0)\n",
      "Requirement already satisfied: toml in c:\\programdata\\anaconda3\\lib\\site-packages (from pytest->fancyimpute) (0.10.2)\n",
      "Requirement already satisfied: atomicwrites>=1.0 in c:\\programdata\\anaconda3\\lib\\site-packages (from pytest->fancyimpute) (1.4.0)\n",
      "Requirement already satisfied: colorama in c:\\programdata\\anaconda3\\lib\\site-packages (from pytest->fancyimpute) (0.4.4)\n",
      "Requirement already satisfied: pandas>=0.23 in c:\\programdata\\anaconda3\\lib\\site-packages (from seaborn->missingno) (1.3.4)\n",
      "Requirement already satisfied: qdldl in c:\\programdata\\anaconda3\\lib\\site-packages (from osqp>=0.6.2->cvxpy->fancyimpute) (0.1.7.post5)\n",
      "Requirement already satisfied: pytz>=2017.3 in c:\\programdata\\anaconda3\\lib\\site-packages (from pandas>=0.23->seaborn->missingno) (2021.3)\n",
      "Note: you may need to restart the kernel to use updated packages.\n"
     ]
    },
    {
     "name": "stderr",
     "output_type": "stream",
     "text": [
      "WARNING: Ignoring invalid distribution -rkupsafe (c:\\programdata\\anaconda3\\lib\\site-packages)\n",
      "WARNING: Ignoring invalid distribution - (c:\\programdata\\anaconda3\\lib\\site-packages)\n",
      "WARNING: Ignoring invalid distribution -rkupsafe (c:\\programdata\\anaconda3\\lib\\site-packages)\n",
      "WARNING: Ignoring invalid distribution -arkupsafe (c:\\programdata\\anaconda3\\lib\\site-packages)\n",
      "WARNING: Ignoring invalid distribution -cikit-learn (c:\\programdata\\anaconda3\\lib\\site-packages)\n",
      "WARNING: Error parsing dependencies of pyodbc: Invalid version: '4.0.0-unsupported'\n",
      "WARNING: Ignoring invalid distribution -rkupsafe (c:\\programdata\\anaconda3\\lib\\site-packages)\n",
      "WARNING: Ignoring invalid distribution - (c:\\programdata\\anaconda3\\lib\\site-packages)\n",
      "WARNING: Ignoring invalid distribution -rkupsafe (c:\\programdata\\anaconda3\\lib\\site-packages)\n",
      "WARNING: Ignoring invalid distribution -arkupsafe (c:\\programdata\\anaconda3\\lib\\site-packages)\n",
      "WARNING: Ignoring invalid distribution -cikit-learn (c:\\programdata\\anaconda3\\lib\\site-packages)\n",
      "\n",
      "[notice] A new release of pip is available: 24.2 -> 25.0\n",
      "[notice] To update, run: python.exe -m pip install --upgrade pip\n",
      "ERROR: Exception:\n",
      "Traceback (most recent call last):\n",
      "  File \"C:\\Users\\hp\\AppData\\Roaming\\Python\\Python39\\site-packages\\pip\\_internal\\cli\\base_command.py\", line 105, in _run_wrapper\n",
      "    status = _inner_run()\n",
      "  File \"C:\\Users\\hp\\AppData\\Roaming\\Python\\Python39\\site-packages\\pip\\_internal\\cli\\base_command.py\", line 96, in _inner_run\n",
      "    return self.run(options, args)\n",
      "  File \"C:\\Users\\hp\\AppData\\Roaming\\Python\\Python39\\site-packages\\pip\\_internal\\cli\\req_command.py\", line 67, in wrapper\n",
      "    return func(self, options, args)\n",
      "  File \"C:\\Users\\hp\\AppData\\Roaming\\Python\\Python39\\site-packages\\pip\\_internal\\commands\\install.py\", line 483, in run\n",
      "    installed_versions[distribution.canonical_name] = distribution.version\n",
      "  File \"C:\\Users\\hp\\AppData\\Roaming\\Python\\Python39\\site-packages\\pip\\_internal\\metadata\\pkg_resources.py\", line 192, in version\n",
      "    return parse_version(self._dist.version)\n",
      "  File \"C:\\Users\\hp\\AppData\\Roaming\\Python\\Python39\\site-packages\\pip\\_vendor\\packaging\\version.py\", line 56, in parse\n",
      "    return Version(version)\n",
      "  File \"C:\\Users\\hp\\AppData\\Roaming\\Python\\Python39\\site-packages\\pip\\_vendor\\packaging\\version.py\", line 202, in __init__\n",
      "    raise InvalidVersion(f\"Invalid version: '{version}'\")\n",
      "pip._vendor.packaging.version.InvalidVersion: Invalid version: '4.0.0-unsupported'\n"
     ]
    }
   ],
   "source": [
    "pip install missingno fancyimpute\n"
   ]
  },
  {
   "cell_type": "code",
   "execution_count": 18,
   "id": "34579428",
   "metadata": {},
   "outputs": [
    {
     "data": {
      "text/plain": [
       "<AxesSubplot:>"
      ]
     },
     "execution_count": 18,
     "metadata": {},
     "output_type": "execute_result"
    },
    {
     "data": {
      "image/png": "[encoded data removed]",
      "text/plain": [
       "<Figure size 1800x720 with 2 Axes>"
      ]
     },
     "metadata": {
      "needs_background": "light"
     },
     "output_type": "display_data"
    },
    {
     "data": {
      "image/png": "[encoded data removed]",
      "text/plain": [
       "<Figure size 1440x864 with 2 Axes>"
      ]
     },
     "metadata": {
      "needs_background": "light"
     },
     "output_type": "display_data"
    }
   ],
   "source": [
    "import missingno as msno\n",
    "import pandas as pd\n",
    "\n",
    "# Visualize missing data pattern\n",
    "msno.matrix(data)\n",
    "msno.heatmap(data) # Correlation heatmap of missing values\n"
   ]
  },
  {
   "cell_type": "markdown",
   "id": "1017f514",
   "metadata": {},
   "source": [
    "From the above, we are trying to determine which columns have NaN from the bar plot and check the type of missing data and if the missing data in these columns have any correlation.\n",
    "Race, payer_code,diag_1,diag_3 having no correlation to other suggessts that it is a Missing Completely At Random type\n"
   ]
  },
  {
   "cell_type": "code",
   "execution_count": 19,
   "id": "ca381002",
   "metadata": {},
   "outputs": [],
   "source": [
    "data = data.dropna(subset=['race'])  # Removes rows where 'race' is NaN\n",
    "#The best method to deal with the missing values in race, is to drop them as race is an individual entity that caannot be predicted or guessed"
   ]
  },
  {
   "cell_type": "code",
   "execution_count": 20,
   "id": "d2fffbdd",
   "metadata": {},
   "outputs": [
    {
     "data": {
      "text/plain": [
       "0"
      ]
     },
     "execution_count": 20,
     "metadata": {},
     "output_type": "execute_result"
    }
   ],
   "source": [
    "data['race'].isna().sum()"
   ]
  },
  {
   "cell_type": "markdown",
   "id": "333fdb70",
   "metadata": {},
   "source": [
    "### Weight Column"
   ]
  },
  {
   "cell_type": "code",
   "execution_count": 21,
   "id": "30fb632b",
   "metadata": {},
   "outputs": [
    {
     "data": {
      "text/plain": [
       "96434"
      ]
     },
     "execution_count": 21,
     "metadata": {},
     "output_type": "execute_result"
    }
   ],
   "source": [
    "data['weight'].isna().sum() "
   ]
  },
  {
   "cell_type": "code",
   "execution_count": 22,
   "id": "b3f6435d",
   "metadata": {},
   "outputs": [],
   "source": [
    "# data['weight'].fillna(data['weight'].mode()[0], inplace=True) #fill missing values in weight with mode"
   ]
  },
  {
   "cell_type": "code",
   "execution_count": 23,
   "id": "1f62d7f0",
   "metadata": {},
   "outputs": [],
   "source": [
    "#  data['weight'].isna().sum() "
   ]
  },
  {
   "cell_type": "markdown",
   "id": "107cb616",
   "metadata": {},
   "source": [
    "The reason for filling missing values in the weight column with imputation method mode, is because a large portion of the data in weight and missing and dropping these would distort our analysis. Also, other imputation such as mean and median would not give accurate information because the weight data is categorical and would be impossible to calculate its mean or median."
   ]
  },
  {
   "cell_type": "code",
   "execution_count": 24,
   "id": "e43f82a4",
   "metadata": {},
   "outputs": [],
   "source": [
    "# data = data.dropna(subset=['weight'])"
   ]
  },
  {
   "cell_type": "code",
   "execution_count": 25,
   "id": "9beeefbf",
   "metadata": {},
   "outputs": [],
   "source": [
    "# data['weight'].isna().sum() "
   ]
  },
  {
   "cell_type": "code",
   "execution_count": 26,
   "id": "0f303ca3",
   "metadata": {},
   "outputs": [],
   "source": [
    "# import matplotlib.pyplot as plt\n",
    "\n",
    "# # Plot the distribution of 'weight' after imputation\n",
    "# data['weight'].value_counts().plot(kind='bar', color='skyblue', alpha=0.7)\n",
    "# plt.title('Distribution of Weight After Imputation')\n",
    "# plt.xlabel('Weight Categories')\n",
    "# plt.ylabel('Frequency')\n",
    "# plt.show()\n"
   ]
  },
  {
   "cell_type": "markdown",
   "id": "599d4e63",
   "metadata": {},
   "source": [
    "After filling missing values with mode, the value count of weight range (75-100) increased to around 97000, which would suggest a majority of the people are in this weight range, introducing potential bias as this may not be true. So, I went ahead and dropped the missing values instead. "
   ]
  },
  {
   "cell_type": "code",
   "execution_count": 27,
   "id": "23fe3458",
   "metadata": {},
   "outputs": [],
   "source": [
    "# Impute missing values with a placeholder category like 'unknown'\n",
    "data['weight'] = data['weight'].fillna('Unknown')"
   ]
  },
  {
   "cell_type": "code",
   "execution_count": 28,
   "id": "f683dc95",
   "metadata": {},
   "outputs": [
    {
     "data": {
      "text/plain": [
       "Unknown      96434\n",
       "[75-100)      1279\n",
       "[50-75)        861\n",
       "[100-125)      596\n",
       "[125-150)      136\n",
       "[25-50)         93\n",
       "[0-25)          47\n",
       "[150-175)       34\n",
       "[175-200)       10\n",
       ">200             3\n",
       "Name: weight, dtype: int64"
      ]
     },
     "execution_count": 28,
     "metadata": {},
     "output_type": "execute_result"
    }
   ],
   "source": [
    "data['weight'].value_counts()"
   ]
  },
  {
   "cell_type": "code",
   "execution_count": 29,
   "id": "b6ac571e",
   "metadata": {},
   "outputs": [
    {
     "data": {
      "image/png": "[encoded data removed]",
      "text/plain": [
       "<Figure size 432x288 with 1 Axes>"
      ]
     },
     "metadata": {
      "needs_background": "light"
     },
     "output_type": "display_data"
    }
   ],
   "source": [
    "import matplotlib.pyplot as plt\n",
    "\n",
    "# Plot the distribution of 'weight' after imputation\n",
    "data['weight'].value_counts().plot(kind='bar', color='skyblue', alpha=0.7)\n",
    "plt.title('Distribution of Weight After Imputation')\n",
    "plt.xlabel('Weight Categories')\n",
    "plt.ylabel('Frequency')\n",
    "plt.show()\n"
   ]
  },
  {
   "cell_type": "markdown",
   "id": "1b31652b",
   "metadata": {},
   "source": [
    "Since dropping the missing values in weight meant losing almost 97% of our data, I decided to handle the missing values by using a placeholder 'Unkown' fofr the missing values. This helps retain a majority of the data"
   ]
  },
  {
   "cell_type": "code",
   "execution_count": 30,
   "id": "016454f8",
   "metadata": {},
   "outputs": [
    {
     "data": {
      "text/plain": [
       "(99493, 50)"
      ]
     },
     "execution_count": 30,
     "metadata": {},
     "output_type": "execute_result"
    }
   ],
   "source": [
    "data.shape"
   ]
  },
  {
   "cell_type": "markdown",
   "id": "b1f04d2f",
   "metadata": {},
   "source": [
    "### Payer_Code Column"
   ]
  },
  {
   "cell_type": "code",
   "execution_count": 31,
   "id": "99f05ae8",
   "metadata": {},
   "outputs": [
    {
     "data": {
      "text/plain": [
       "39712"
      ]
     },
     "execution_count": 31,
     "metadata": {},
     "output_type": "execute_result"
    }
   ],
   "source": [
    "data['payer_code'].isna().sum() "
   ]
  },
  {
   "cell_type": "code",
   "execution_count": 32,
   "id": "41a19af7",
   "metadata": {},
   "outputs": [
    {
     "data": {
      "text/plain": [
       "NaN    39712\n",
       "MC     31605\n",
       "HM      6128\n",
       "SP      4763\n",
       "BC      4541\n",
       "MD      3434\n",
       "CP      2463\n",
       "UN      2284\n",
       "CM      1919\n",
       "OG      1025\n",
       "PO       589\n",
       "DM       534\n",
       "CH       144\n",
       "WC       125\n",
       "OT        95\n",
       "MP        77\n",
       "SI        55\n",
       "Name: payer_code, dtype: int64"
      ]
     },
     "execution_count": 32,
     "metadata": {},
     "output_type": "execute_result"
    }
   ],
   "source": [
    "data['payer_code'].value_counts(dropna=False)\n"
   ]
  },
  {
   "cell_type": "code",
   "execution_count": 33,
   "id": "76bc766a",
   "metadata": {},
   "outputs": [],
   "source": [
    "data = data.dropna(subset=['payer_code'])"
   ]
  },
  {
   "cell_type": "code",
   "execution_count": 34,
   "id": "4ae95cdc",
   "metadata": {},
   "outputs": [
    {
     "data": {
      "text/plain": [
       "0"
      ]
     },
     "execution_count": 34,
     "metadata": {},
     "output_type": "execute_result"
    }
   ],
   "source": [
    "data['payer_code'].isna().sum() "
   ]
  },
  {
   "cell_type": "code",
   "execution_count": 35,
   "id": "687fb7d9",
   "metadata": {},
   "outputs": [
    {
     "data": {
      "text/plain": [
       "(59781, 50)"
      ]
     },
     "execution_count": 35,
     "metadata": {},
     "output_type": "execute_result"
    }
   ],
   "source": [
    "data.shape"
   ]
  },
  {
   "cell_type": "markdown",
   "id": "45485485",
   "metadata": {},
   "source": [
    "### Medical_Specialty Column"
   ]
  },
  {
   "cell_type": "code",
   "execution_count": 36,
   "id": "8838d5ce",
   "metadata": {},
   "outputs": [
    {
     "data": {
      "text/plain": [
       "32641"
      ]
     },
     "execution_count": 36,
     "metadata": {},
     "output_type": "execute_result"
    }
   ],
   "source": [
    "data['medical_specialty'].isna().sum() "
   ]
  },
  {
   "cell_type": "code",
   "execution_count": 37,
   "id": "2732fdc0",
   "metadata": {},
   "outputs": [],
   "source": [
    "#data['medical_specialty'].value_counts(dropna=False)\n",
    "data['medical_specialty'] = data['medical_specialty'].fillna('Unknown')"
   ]
  },
  {
   "cell_type": "code",
   "execution_count": 38,
   "id": "d34e46e4",
   "metadata": {},
   "outputs": [],
   "source": [
    "#data = data.dropna(subset=['medical_specialty'])"
   ]
  },
  {
   "cell_type": "code",
   "execution_count": 39,
   "id": "d00ad399",
   "metadata": {},
   "outputs": [
    {
     "data": {
      "text/plain": [
       "0"
      ]
     },
     "execution_count": 39,
     "metadata": {},
     "output_type": "execute_result"
    }
   ],
   "source": [
    "data['medical_specialty'].isna().sum() "
   ]
  },
  {
   "cell_type": "code",
   "execution_count": 40,
   "id": "7801b449",
   "metadata": {},
   "outputs": [
    {
     "data": {
      "text/plain": [
       "Unknown                              32641\n",
       "Emergency/Trauma                      7043\n",
       "InternalMedicine                      6005\n",
       "Family/GeneralPractice                3206\n",
       "Cardiology                            2322\n",
       "Surgery-General                       1877\n",
       "Radiologist                           1041\n",
       "Nephrology                             946\n",
       "Orthopedics                            860\n",
       "Surgery-Vascular                       345\n",
       "Gastroenterology                       333\n",
       "Surgery-Cardiovascular/Thoracic        313\n",
       "Pulmonology                            312\n",
       "Orthopedics-Reconstructive             307\n",
       "Urology                                295\n",
       "ObstetricsandGynecology                290\n",
       "Psychiatry                             274\n",
       "Surgery-Neuro                          185\n",
       "Oncology                               173\n",
       "Neurology                              159\n",
       "Podiatry                                82\n",
       "Hematology                              71\n",
       "Psychology                              70\n",
       "Hospitalist                             57\n",
       "PhysicalMedicineandRehabilitation       57\n",
       "Otolaryngology                          56\n",
       "Hematology/Oncology                     53\n",
       "Pediatrics                              47\n",
       "Surgery-Thoracic                        43\n",
       "Gynecology                              40\n",
       "SurgicalSpecialty                       32\n",
       "Osteopath                               32\n",
       "Endocrinology                           30\n",
       "Ophthalmology                           27\n",
       "InfectiousDiseases                      24\n",
       "Obstetrics                              19\n",
       "Radiology                               18\n",
       "Surgeon                                 16\n",
       "Surgery-Cardiovascular                  13\n",
       "OutreachServices                        12\n",
       "Surgery-Plastic                         11\n",
       "Anesthesiology                           8\n",
       "Endocrinology-Metabolism                 8\n",
       "DCPTEAM                                  6\n",
       "PhysicianNotFound                        5\n",
       "Rheumatology                             4\n",
       "Pediatrics-CriticalCare                  2\n",
       "Perinatology                             1\n",
       "Neurophysiology                          1\n",
       "Pediatrics-Endocrinology                 1\n",
       "Dentistry                                1\n",
       "SportsMedicine                           1\n",
       "Dermatology                              1\n",
       "Surgery-Maxillofacial                    1\n",
       "Proctology                               1\n",
       "AllergyandImmunology                     1\n",
       "Pediatrics-Pulmonology                   1\n",
       "Resident                                 1\n",
       "Name: medical_specialty, dtype: int64"
      ]
     },
     "execution_count": 40,
     "metadata": {},
     "output_type": "execute_result"
    }
   ],
   "source": [
    "data['medical_specialty'].value_counts()"
   ]
  },
  {
   "cell_type": "markdown",
   "id": "0c774e44",
   "metadata": {},
   "source": [
    "Contigency Table to check correlation of categorical columns with readmitted"
   ]
  },
  {
   "cell_type": "code",
   "execution_count": 41,
   "id": "e47b95d4",
   "metadata": {},
   "outputs": [],
   "source": [
    "# import pandas as pd\n",
    "# import numpy as np\n",
    "# from scipy.stats import chi2_contingency\n",
    "\n",
    "# # Function to calculate Cramér's V\n",
    "# def cramers_v(confusion_matrix):\n",
    "#     chi2_stat, p_val, dof, ex = chi2_contingency(confusion_matrix)\n",
    "#     n = confusion_matrix.sum().sum()\n",
    "#     return np.sqrt(chi2_stat / (n * (min(confusion_matrix.shape) - 1)))\n",
    "\n",
    "# # List of categorical columns (you can add more based on your dataset)\n",
    "# categorical_columns = categorical_col\n",
    "# # Initialize an empty dictionary to store the Cramér's V values\n",
    "# cramers_v_dict = {}\n",
    "\n",
    "# # Calculate Cramér's V for each categorical column\n",
    "# for col in categorical_columns:\n",
    "#     confusion_matrix = pd.crosstab(data[col], data['readmitted'])\n",
    "#     cramers_v_dict[col] = cramers_v(confusion_matrix)\n",
    "\n",
    "# # Convert the results into a DataFrame for easy reading\n",
    "# cramers_v_df = pd.DataFrame(list(cramers_v_dict.items()), columns=['Categorical Feature', \"Cramér's V\"])\n",
    "# cramers_v_df\n"
   ]
  },
  {
   "cell_type": "markdown",
   "id": "78a8523b",
   "metadata": {},
   "source": [
    "#### Label Encode Readmitted Column"
   ]
  },
  {
   "cell_type": "code",
   "execution_count": 42,
   "id": "abea32d3",
   "metadata": {},
   "outputs": [
    {
     "data": {
      "text/plain": [
       "74634     1\n",
       "63777     0\n",
       "84249     2\n",
       "31642     1\n",
       "49295     0\n",
       "81650     1\n",
       "72670     1\n",
       "45202     0\n",
       "93116     0\n",
       "88121     0\n",
       "49435     1\n",
       "28439     0\n",
       "49624     0\n",
       "55537     1\n",
       "47862     0\n",
       "54326     1\n",
       "58518     0\n",
       "27253     0\n",
       "88911     1\n",
       "73902     0\n",
       "72167     2\n",
       "88004     1\n",
       "79834     2\n",
       "64441     2\n",
       "40036     1\n",
       "90478     0\n",
       "59615     0\n",
       "59324     0\n",
       "81757     1\n",
       "38952     0\n",
       "36114     0\n",
       "75735     0\n",
       "91612     2\n",
       "32306     0\n",
       "58291     0\n",
       "64136     0\n",
       "96745     1\n",
       "47919     0\n",
       "74753     2\n",
       "93668     0\n",
       "100623    0\n",
       "91628     0\n",
       "38559     0\n",
       "95337     0\n",
       "60762     1\n",
       "43164     0\n",
       "59475     1\n",
       "83166     0\n",
       "76693     1\n",
       "99712     1\n",
       "Name: readmitted, dtype: int64"
      ]
     },
     "execution_count": 42,
     "metadata": {},
     "output_type": "execute_result"
    }
   ],
   "source": [
    "data['readmitted'] = data['readmitted'].replace({'NO': 0, '>30': 1, '<30': 2})\n",
    "data['readmitted'].sample(50)"
   ]
  },
  {
   "cell_type": "code",
   "execution_count": 43,
   "id": "ce1c33bc",
   "metadata": {},
   "outputs": [],
   "source": [
    "# Dropping unnecessary columns safely\n",
    "data = data.drop(['examide','citoglipton'], axis=1)\n"
   ]
  },
  {
   "cell_type": "code",
   "execution_count": 44,
   "id": "38b5f76d",
   "metadata": {},
   "outputs": [
    {
     "data": {
      "text/plain": [
       "(59781, 48)"
      ]
     },
     "execution_count": 44,
     "metadata": {},
     "output_type": "execute_result"
    }
   ],
   "source": [
    "data.shape"
   ]
  },
  {
   "cell_type": "markdown",
   "id": "b8c90181",
   "metadata": {},
   "source": [
    "## Numerical Columns Data Cleaning"
   ]
  },
  {
   "cell_type": "code",
   "execution_count": 45,
   "id": "2015fe2a",
   "metadata": {},
   "outputs": [
    {
     "data": {
      "text/plain": [
       "Index(['encounter_id', 'patient_nbr', 'admission_type_id',\n",
       "       'discharge_disposition_id', 'admission_source_id', 'time_in_hospital',\n",
       "       'num_lab_procedures', 'num_procedures', 'num_medications',\n",
       "       'number_outpatient', 'number_emergency', 'number_inpatient',\n",
       "       'number_diagnoses', 'readmitted'],\n",
       "      dtype='object')"
      ]
     },
     "execution_count": 45,
     "metadata": {},
     "output_type": "execute_result"
    }
   ],
   "source": [
    "numerical_col = data.select_dtypes(include=['int64']).columns\n",
    "numerical_col"
   ]
  },
  {
   "cell_type": "code",
   "execution_count": 46,
   "id": "ed19e11b",
   "metadata": {},
   "outputs": [
    {
     "data": {
      "text/plain": [
       "encounter_id                0\n",
       "patient_nbr                 0\n",
       "admission_type_id           0\n",
       "discharge_disposition_id    0\n",
       "admission_source_id         0\n",
       "time_in_hospital            0\n",
       "num_lab_procedures          0\n",
       "num_procedures              0\n",
       "num_medications             0\n",
       "number_outpatient           0\n",
       "number_emergency            0\n",
       "number_inpatient            0\n",
       "number_diagnoses            0\n",
       "readmitted                  0\n",
       "dtype: int64"
      ]
     },
     "execution_count": 46,
     "metadata": {},
     "output_type": "execute_result"
    }
   ],
   "source": [
    "data.select_dtypes(include=['int64']).isnull().sum() #check for missing values in the categorical columns\n"
   ]
  },
  {
   "cell_type": "code",
   "execution_count": 47,
   "id": "70c55381",
   "metadata": {},
   "outputs": [],
   "source": [
    "import pandas as pd\n",
    "\n",
    "def numerical(data):\n",
    "   \n",
    "    # Iterate over each column\n",
    "    for column in data.columns:\n",
    "        # Check if the column is categorical, an object data type\n",
    "        if data[column].dtype == \"int64\":\n",
    "            # Get the count of unique entries in the column\n",
    "            unique_entries = data[column].value_counts()\n",
    "            print(f\"Unique entries in column '{column}':\")\n",
    "            print(unique_entries)\n",
    "            print(\"\\n\")  \n"
   ]
  },
  {
   "cell_type": "code",
   "execution_count": 48,
   "id": "80ab4dc1",
   "metadata": {},
   "outputs": [
    {
     "name": "stdout",
     "output_type": "stream",
     "text": [
      "Unique entries in column 'encounter_id':\n",
      "72091308     1\n",
      "240186060    1\n",
      "240168138    1\n",
      "240169902    1\n",
      "240170652    1\n",
      "            ..\n",
      "158997210    1\n",
      "158997900    1\n",
      "159002352    1\n",
      "159003174    1\n",
      "443857166    1\n",
      "Name: encounter_id, Length: 59781, dtype: int64\n",
      "\n",
      "\n",
      "Unique entries in column 'patient_nbr':\n",
      "88785891     40\n",
      "43140906     28\n",
      "88227540     23\n",
      "84428613     22\n",
      "92709351     21\n",
      "             ..\n",
      "89387505      1\n",
      "75254229      1\n",
      "98953641      1\n",
      "52005600      1\n",
      "120975314     1\n",
      "Name: patient_nbr, Length: 40157, dtype: int64\n",
      "\n",
      "\n",
      "Unique entries in column 'admission_type_id':\n",
      "1    33312\n",
      "3    12326\n",
      "2    10981\n",
      "5     3133\n",
      "7       20\n",
      "4        5\n",
      "6        4\n",
      "Name: admission_type_id, dtype: int64\n",
      "\n",
      "\n",
      "Unique entries in column 'discharge_disposition_id':\n",
      "1     35654\n",
      "3      9950\n",
      "6      8132\n",
      "2      1414\n",
      "22     1396\n",
      "11      956\n",
      "7       411\n",
      "4       383\n",
      "5       374\n",
      "13      300\n",
      "23      296\n",
      "14      274\n",
      "28      109\n",
      "24       40\n",
      "18       23\n",
      "8        17\n",
      "9        17\n",
      "15       10\n",
      "19        8\n",
      "16        7\n",
      "17        6\n",
      "27        2\n",
      "20        1\n",
      "25        1\n",
      "Name: discharge_disposition_id, dtype: int64\n",
      "\n",
      "\n",
      "Unique entries in column 'admission_source_id':\n",
      "7     36305\n",
      "1     18197\n",
      "6      1861\n",
      "17     1715\n",
      "4      1016\n",
      "5       510\n",
      "2        62\n",
      "9        53\n",
      "3        31\n",
      "22       11\n",
      "8         8\n",
      "10        5\n",
      "14        2\n",
      "11        2\n",
      "25        2\n",
      "13        1\n",
      "Name: admission_source_id, dtype: int64\n",
      "\n",
      "\n",
      "Unique entries in column 'time_in_hospital':\n",
      "3     10827\n",
      "2     10311\n",
      "1      8642\n",
      "4      8326\n",
      "5      5854\n",
      "6      4329\n",
      "7      3369\n",
      "8      2371\n",
      "9      1656\n",
      "10     1208\n",
      "11      975\n",
      "12      757\n",
      "13      638\n",
      "14      518\n",
      "Name: time_in_hospital, dtype: int64\n",
      "\n",
      "\n",
      "Unique entries in column 'num_lab_procedures':\n",
      "1      2611\n",
      "43     1711\n",
      "44     1454\n",
      "38     1370\n",
      "45     1365\n",
      "       ... \n",
      "102       1\n",
      "132       1\n",
      "121       1\n",
      "126       1\n",
      "118       1\n",
      "Name: num_lab_procedures, Length: 114, dtype: int64\n",
      "\n",
      "\n",
      "Unique entries in column 'num_procedures':\n",
      "0    28625\n",
      "1    12256\n",
      "2     7301\n",
      "3     4917\n",
      "6     2821\n",
      "4     2433\n",
      "5     1428\n",
      "Name: num_procedures, dtype: int64\n",
      "\n",
      "\n",
      "Unique entries in column 'num_medications':\n",
      "13    3504\n",
      "15    3463\n",
      "12    3420\n",
      "14    3347\n",
      "11    3297\n",
      "      ... \n",
      "75       2\n",
      "81       1\n",
      "79       1\n",
      "70       1\n",
      "74       1\n",
      "Name: num_medications, Length: 75, dtype: int64\n",
      "\n",
      "\n",
      "Unique entries in column 'number_outpatient':\n",
      "0     47551\n",
      "1      5913\n",
      "2      2703\n",
      "3      1574\n",
      "4       880\n",
      "5       409\n",
      "6       247\n",
      "7       130\n",
      "8        73\n",
      "9        72\n",
      "10       50\n",
      "11       36\n",
      "13       27\n",
      "14       25\n",
      "12       21\n",
      "15       14\n",
      "16       11\n",
      "17        6\n",
      "20        6\n",
      "21        5\n",
      "18        3\n",
      "22        3\n",
      "33        2\n",
      "19        2\n",
      "26        2\n",
      "27        2\n",
      "24        2\n",
      "36        1\n",
      "34        1\n",
      "39        1\n",
      "42        1\n",
      "29        1\n",
      "25        1\n",
      "35        1\n",
      "23        1\n",
      "28        1\n",
      "37        1\n",
      "38        1\n",
      "40        1\n",
      "Name: number_outpatient, dtype: int64\n",
      "\n",
      "\n",
      "Unique entries in column 'number_emergency':\n",
      "0     51129\n",
      "1      5640\n",
      "2      1590\n",
      "3       593\n",
      "4       321\n",
      "5       176\n",
      "6        77\n",
      "7        62\n",
      "8        45\n",
      "9        32\n",
      "10       31\n",
      "11       23\n",
      "13       12\n",
      "12       10\n",
      "16        5\n",
      "18        5\n",
      "22        4\n",
      "19        4\n",
      "20        4\n",
      "15        3\n",
      "14        3\n",
      "21        2\n",
      "25        1\n",
      "46        1\n",
      "42        1\n",
      "76        1\n",
      "37        1\n",
      "64        1\n",
      "63        1\n",
      "54        1\n",
      "24        1\n",
      "29        1\n",
      "Name: number_emergency, dtype: int64\n",
      "\n",
      "\n",
      "Unique entries in column 'number_inpatient':\n",
      "0     39041\n",
      "1     11729\n",
      "2      4591\n",
      "3      2122\n",
      "4       991\n",
      "5       506\n",
      "6       290\n",
      "7       176\n",
      "8       105\n",
      "9        82\n",
      "10       42\n",
      "11       39\n",
      "12       27\n",
      "13       16\n",
      "14        8\n",
      "15        7\n",
      "16        6\n",
      "21        1\n",
      "18        1\n",
      "19        1\n",
      "Name: number_inpatient, dtype: int64\n",
      "\n",
      "\n",
      "Unique entries in column 'number_diagnoses':\n",
      "9     32716\n",
      "5      6562\n",
      "8      5647\n",
      "7      5535\n",
      "6      4822\n",
      "4      2703\n",
      "3      1261\n",
      "2       369\n",
      "1        60\n",
      "16       40\n",
      "10       16\n",
      "13       15\n",
      "11       11\n",
      "12        9\n",
      "15        8\n",
      "14        7\n",
      "Name: number_diagnoses, dtype: int64\n",
      "\n",
      "\n",
      "Unique entries in column 'readmitted':\n",
      "0    31885\n",
      "1    21316\n",
      "2     6580\n",
      "Name: readmitted, dtype: int64\n",
      "\n",
      "\n"
     ]
    }
   ],
   "source": [
    "numerical(data)"
   ]
  },
  {
   "cell_type": "code",
   "execution_count": 49,
   "id": "9ac1c87f",
   "metadata": {},
   "outputs": [
    {
     "data": {
      "text/html": [
       "<div>\n",
       "<style scoped>\n",
       "    .dataframe tbody tr th:only-of-type {\n",
       "        vertical-align: middle;\n",
       "    }\n",
       "\n",
       "    .dataframe tbody tr th {\n",
       "        vertical-align: top;\n",
       "    }\n",
       "\n",
       "    .dataframe thead th {\n",
       "        text-align: right;\n",
       "    }\n",
       "</style>\n",
       "<table border=\"1\" class=\"dataframe\">\n",
       "  <thead>\n",
       "    <tr style=\"text-align: right;\">\n",
       "      <th></th>\n",
       "      <th>encounter_id</th>\n",
       "      <th>patient_nbr</th>\n",
       "      <th>admission_type_id</th>\n",
       "      <th>discharge_disposition_id</th>\n",
       "      <th>admission_source_id</th>\n",
       "      <th>time_in_hospital</th>\n",
       "      <th>num_lab_procedures</th>\n",
       "      <th>num_procedures</th>\n",
       "      <th>num_medications</th>\n",
       "      <th>number_outpatient</th>\n",
       "      <th>number_emergency</th>\n",
       "      <th>number_inpatient</th>\n",
       "      <th>number_diagnoses</th>\n",
       "      <th>readmitted</th>\n",
       "    </tr>\n",
       "  </thead>\n",
       "  <tbody>\n",
       "    <tr>\n",
       "      <th>encounter_id</th>\n",
       "      <td>1.000000</td>\n",
       "      <td>0.399405</td>\n",
       "      <td>-0.156596</td>\n",
       "      <td>0.015168</td>\n",
       "      <td>-0.062664</td>\n",
       "      <td>-0.027902</td>\n",
       "      <td>0.040087</td>\n",
       "      <td>0.019798</td>\n",
       "      <td>0.068042</td>\n",
       "      <td>0.057175</td>\n",
       "      <td>0.036176</td>\n",
       "      <td>0.037619</td>\n",
       "      <td>0.251615</td>\n",
       "      <td>-0.033506</td>\n",
       "    </tr>\n",
       "    <tr>\n",
       "      <th>patient_nbr</th>\n",
       "      <td>0.399405</td>\n",
       "      <td>1.000000</td>\n",
       "      <td>-0.058040</td>\n",
       "      <td>0.012577</td>\n",
       "      <td>-0.025358</td>\n",
       "      <td>0.001661</td>\n",
       "      <td>0.044891</td>\n",
       "      <td>0.002098</td>\n",
       "      <td>-0.017193</td>\n",
       "      <td>0.069512</td>\n",
       "      <td>0.031676</td>\n",
       "      <td>0.005245</td>\n",
       "      <td>0.250323</td>\n",
       "      <td>0.065301</td>\n",
       "    </tr>\n",
       "    <tr>\n",
       "      <th>admission_type_id</th>\n",
       "      <td>-0.156596</td>\n",
       "      <td>-0.058040</td>\n",
       "      <td>1.000000</td>\n",
       "      <td>0.018237</td>\n",
       "      <td>-0.318542</td>\n",
       "      <td>-0.022384</td>\n",
       "      <td>-0.269338</td>\n",
       "      <td>0.136562</td>\n",
       "      <td>0.060152</td>\n",
       "      <td>0.052641</td>\n",
       "      <td>-0.023327</td>\n",
       "      <td>-0.038298</td>\n",
       "      <td>-0.076481</td>\n",
       "      <td>-0.033200</td>\n",
       "    </tr>\n",
       "    <tr>\n",
       "      <th>discharge_disposition_id</th>\n",
       "      <td>0.015168</td>\n",
       "      <td>0.012577</td>\n",
       "      <td>0.018237</td>\n",
       "      <td>1.000000</td>\n",
       "      <td>0.020954</td>\n",
       "      <td>0.178315</td>\n",
       "      <td>0.069865</td>\n",
       "      <td>0.008403</td>\n",
       "      <td>0.157656</td>\n",
       "      <td>0.016875</td>\n",
       "      <td>-0.009770</td>\n",
       "      <td>0.038363</td>\n",
       "      <td>0.121104</td>\n",
       "      <td>0.030378</td>\n",
       "    </tr>\n",
       "    <tr>\n",
       "      <th>admission_source_id</th>\n",
       "      <td>-0.062664</td>\n",
       "      <td>-0.025358</td>\n",
       "      <td>-0.318542</td>\n",
       "      <td>0.020954</td>\n",
       "      <td>1.000000</td>\n",
       "      <td>0.010914</td>\n",
       "      <td>0.034314</td>\n",
       "      <td>-0.186660</td>\n",
       "      <td>-0.076402</td>\n",
       "      <td>0.019741</td>\n",
       "      <td>0.065792</td>\n",
       "      <td>0.061165</td>\n",
       "      <td>0.123286</td>\n",
       "      <td>0.021385</td>\n",
       "    </tr>\n",
       "    <tr>\n",
       "      <th>time_in_hospital</th>\n",
       "      <td>-0.027902</td>\n",
       "      <td>0.001661</td>\n",
       "      <td>-0.022384</td>\n",
       "      <td>0.178315</td>\n",
       "      <td>0.010914</td>\n",
       "      <td>1.000000</td>\n",
       "      <td>0.332583</td>\n",
       "      <td>0.169474</td>\n",
       "      <td>0.478013</td>\n",
       "      <td>-0.000329</td>\n",
       "      <td>-0.002160</td>\n",
       "      <td>0.067409</td>\n",
       "      <td>0.219540</td>\n",
       "      <td>0.049132</td>\n",
       "    </tr>\n",
       "    <tr>\n",
       "      <th>num_lab_procedures</th>\n",
       "      <td>0.040087</td>\n",
       "      <td>0.044891</td>\n",
       "      <td>-0.269338</td>\n",
       "      <td>0.069865</td>\n",
       "      <td>0.034314</td>\n",
       "      <td>0.332583</td>\n",
       "      <td>1.000000</td>\n",
       "      <td>0.016650</td>\n",
       "      <td>0.291709</td>\n",
       "      <td>0.009213</td>\n",
       "      <td>0.010643</td>\n",
       "      <td>0.034500</td>\n",
       "      <td>0.169782</td>\n",
       "      <td>0.037018</td>\n",
       "    </tr>\n",
       "    <tr>\n",
       "      <th>num_procedures</th>\n",
       "      <td>0.019798</td>\n",
       "      <td>0.002098</td>\n",
       "      <td>0.136562</td>\n",
       "      <td>0.008403</td>\n",
       "      <td>-0.186660</td>\n",
       "      <td>0.169474</td>\n",
       "      <td>0.016650</td>\n",
       "      <td>1.000000</td>\n",
       "      <td>0.346864</td>\n",
       "      <td>-0.016480</td>\n",
       "      <td>-0.035566</td>\n",
       "      <td>-0.060671</td>\n",
       "      <td>0.050434</td>\n",
       "      <td>-0.033536</td>\n",
       "    </tr>\n",
       "    <tr>\n",
       "      <th>num_medications</th>\n",
       "      <td>0.068042</td>\n",
       "      <td>-0.017193</td>\n",
       "      <td>0.060152</td>\n",
       "      <td>0.157656</td>\n",
       "      <td>-0.076402</td>\n",
       "      <td>0.478013</td>\n",
       "      <td>0.291709</td>\n",
       "      <td>0.346864</td>\n",
       "      <td>1.000000</td>\n",
       "      <td>0.048745</td>\n",
       "      <td>0.010274</td>\n",
       "      <td>0.081626</td>\n",
       "      <td>0.263607</td>\n",
       "      <td>0.062236</td>\n",
       "    </tr>\n",
       "    <tr>\n",
       "      <th>number_outpatient</th>\n",
       "      <td>0.057175</td>\n",
       "      <td>0.069512</td>\n",
       "      <td>0.052641</td>\n",
       "      <td>0.016875</td>\n",
       "      <td>0.019741</td>\n",
       "      <td>-0.000329</td>\n",
       "      <td>0.009213</td>\n",
       "      <td>-0.016480</td>\n",
       "      <td>0.048745</td>\n",
       "      <td>1.000000</td>\n",
       "      <td>0.075575</td>\n",
       "      <td>0.107239</td>\n",
       "      <td>0.091848</td>\n",
       "      <td>0.072461</td>\n",
       "    </tr>\n",
       "    <tr>\n",
       "      <th>number_emergency</th>\n",
       "      <td>0.036176</td>\n",
       "      <td>0.031676</td>\n",
       "      <td>-0.023327</td>\n",
       "      <td>-0.009770</td>\n",
       "      <td>0.065792</td>\n",
       "      <td>-0.002160</td>\n",
       "      <td>0.010643</td>\n",
       "      <td>-0.035566</td>\n",
       "      <td>0.010274</td>\n",
       "      <td>0.075575</td>\n",
       "      <td>1.000000</td>\n",
       "      <td>0.301151</td>\n",
       "      <td>0.048333</td>\n",
       "      <td>0.117033</td>\n",
       "    </tr>\n",
       "    <tr>\n",
       "      <th>number_inpatient</th>\n",
       "      <td>0.037619</td>\n",
       "      <td>0.005245</td>\n",
       "      <td>-0.038298</td>\n",
       "      <td>0.038363</td>\n",
       "      <td>0.061165</td>\n",
       "      <td>0.067409</td>\n",
       "      <td>0.034500</td>\n",
       "      <td>-0.060671</td>\n",
       "      <td>0.081626</td>\n",
       "      <td>0.107239</td>\n",
       "      <td>0.301151</td>\n",
       "      <td>1.000000</td>\n",
       "      <td>0.101925</td>\n",
       "      <td>0.240650</td>\n",
       "    </tr>\n",
       "    <tr>\n",
       "      <th>number_diagnoses</th>\n",
       "      <td>0.251615</td>\n",
       "      <td>0.250323</td>\n",
       "      <td>-0.076481</td>\n",
       "      <td>0.121104</td>\n",
       "      <td>0.123286</td>\n",
       "      <td>0.219540</td>\n",
       "      <td>0.169782</td>\n",
       "      <td>0.050434</td>\n",
       "      <td>0.263607</td>\n",
       "      <td>0.091848</td>\n",
       "      <td>0.048333</td>\n",
       "      <td>0.101925</td>\n",
       "      <td>1.000000</td>\n",
       "      <td>0.110448</td>\n",
       "    </tr>\n",
       "    <tr>\n",
       "      <th>readmitted</th>\n",
       "      <td>-0.033506</td>\n",
       "      <td>0.065301</td>\n",
       "      <td>-0.033200</td>\n",
       "      <td>0.030378</td>\n",
       "      <td>0.021385</td>\n",
       "      <td>0.049132</td>\n",
       "      <td>0.037018</td>\n",
       "      <td>-0.033536</td>\n",
       "      <td>0.062236</td>\n",
       "      <td>0.072461</td>\n",
       "      <td>0.117033</td>\n",
       "      <td>0.240650</td>\n",
       "      <td>0.110448</td>\n",
       "      <td>1.000000</td>\n",
       "    </tr>\n",
       "  </tbody>\n",
       "</table>\n",
       "</div>"
      ],
      "text/plain": [
       "                          encounter_id  patient_nbr  admission_type_id  \\\n",
       "encounter_id                  1.000000     0.399405          -0.156596   \n",
       "patient_nbr                   0.399405     1.000000          -0.058040   \n",
       "admission_type_id            -0.156596    -0.058040           1.000000   \n",
       "discharge_disposition_id      0.015168     0.012577           0.018237   \n",
       "admission_source_id          -0.062664    -0.025358          -0.318542   \n",
       "time_in_hospital             -0.027902     0.001661          -0.022384   \n",
       "num_lab_procedures            0.040087     0.044891          -0.269338   \n",
       "num_procedures                0.019798     0.002098           0.136562   \n",
       "num_medications               0.068042    -0.017193           0.060152   \n",
       "number_outpatient             0.057175     0.069512           0.052641   \n",
       "number_emergency              0.036176     0.031676          -0.023327   \n",
       "number_inpatient              0.037619     0.005245          -0.038298   \n",
       "number_diagnoses              0.251615     0.250323          -0.076481   \n",
       "readmitted                   -0.033506     0.065301          -0.033200   \n",
       "\n",
       "                          discharge_disposition_id  admission_source_id  \\\n",
       "encounter_id                              0.015168            -0.062664   \n",
       "patient_nbr                               0.012577            -0.025358   \n",
       "admission_type_id                         0.018237            -0.318542   \n",
       "discharge_disposition_id                  1.000000             0.020954   \n",
       "admission_source_id                       0.020954             1.000000   \n",
       "time_in_hospital                          0.178315             0.010914   \n",
       "num_lab_procedures                        0.069865             0.034314   \n",
       "num_procedures                            0.008403            -0.186660   \n",
       "num_medications                           0.157656            -0.076402   \n",
       "number_outpatient                         0.016875             0.019741   \n",
       "number_emergency                         -0.009770             0.065792   \n",
       "number_inpatient                          0.038363             0.061165   \n",
       "number_diagnoses                          0.121104             0.123286   \n",
       "readmitted                                0.030378             0.021385   \n",
       "\n",
       "                          time_in_hospital  num_lab_procedures  \\\n",
       "encounter_id                     -0.027902            0.040087   \n",
       "patient_nbr                       0.001661            0.044891   \n",
       "admission_type_id                -0.022384           -0.269338   \n",
       "discharge_disposition_id          0.178315            0.069865   \n",
       "admission_source_id               0.010914            0.034314   \n",
       "time_in_hospital                  1.000000            0.332583   \n",
       "num_lab_procedures                0.332583            1.000000   \n",
       "num_procedures                    0.169474            0.016650   \n",
       "num_medications                   0.478013            0.291709   \n",
       "number_outpatient                -0.000329            0.009213   \n",
       "number_emergency                 -0.002160            0.010643   \n",
       "number_inpatient                  0.067409            0.034500   \n",
       "number_diagnoses                  0.219540            0.169782   \n",
       "readmitted                        0.049132            0.037018   \n",
       "\n",
       "                          num_procedures  num_medications  number_outpatient  \\\n",
       "encounter_id                    0.019798         0.068042           0.057175   \n",
       "patient_nbr                     0.002098        -0.017193           0.069512   \n",
       "admission_type_id               0.136562         0.060152           0.052641   \n",
       "discharge_disposition_id        0.008403         0.157656           0.016875   \n",
       "admission_source_id            -0.186660        -0.076402           0.019741   \n",
       "time_in_hospital                0.169474         0.478013          -0.000329   \n",
       "num_lab_procedures              0.016650         0.291709           0.009213   \n",
       "num_procedures                  1.000000         0.346864          -0.016480   \n",
       "num_medications                 0.346864         1.000000           0.048745   \n",
       "number_outpatient              -0.016480         0.048745           1.000000   \n",
       "number_emergency               -0.035566         0.010274           0.075575   \n",
       "number_inpatient               -0.060671         0.081626           0.107239   \n",
       "number_diagnoses                0.050434         0.263607           0.091848   \n",
       "readmitted                     -0.033536         0.062236           0.072461   \n",
       "\n",
       "                          number_emergency  number_inpatient  \\\n",
       "encounter_id                      0.036176          0.037619   \n",
       "patient_nbr                       0.031676          0.005245   \n",
       "admission_type_id                -0.023327         -0.038298   \n",
       "discharge_disposition_id         -0.009770          0.038363   \n",
       "admission_source_id               0.065792          0.061165   \n",
       "time_in_hospital                 -0.002160          0.067409   \n",
       "num_lab_procedures                0.010643          0.034500   \n",
       "num_procedures                   -0.035566         -0.060671   \n",
       "num_medications                   0.010274          0.081626   \n",
       "number_outpatient                 0.075575          0.107239   \n",
       "number_emergency                  1.000000          0.301151   \n",
       "number_inpatient                  0.301151          1.000000   \n",
       "number_diagnoses                  0.048333          0.101925   \n",
       "readmitted                        0.117033          0.240650   \n",
       "\n",
       "                          number_diagnoses  readmitted  \n",
       "encounter_id                      0.251615   -0.033506  \n",
       "patient_nbr                       0.250323    0.065301  \n",
       "admission_type_id                -0.076481   -0.033200  \n",
       "discharge_disposition_id          0.121104    0.030378  \n",
       "admission_source_id               0.123286    0.021385  \n",
       "time_in_hospital                  0.219540    0.049132  \n",
       "num_lab_procedures                0.169782    0.037018  \n",
       "num_procedures                    0.050434   -0.033536  \n",
       "num_medications                   0.263607    0.062236  \n",
       "number_outpatient                 0.091848    0.072461  \n",
       "number_emergency                  0.048333    0.117033  \n",
       "number_inpatient                  0.101925    0.240650  \n",
       "number_diagnoses                  1.000000    0.110448  \n",
       "readmitted                        0.110448    1.000000  "
      ]
     },
     "execution_count": 49,
     "metadata": {},
     "output_type": "execute_result"
    }
   ],
   "source": [
    "data.corr(method = 'pearson')"
   ]
  },
  {
   "cell_type": "code",
   "execution_count": 50,
   "id": "089bf30a",
   "metadata": {},
   "outputs": [
    {
     "data": {
      "text/plain": [
       "(14,)"
      ]
     },
     "execution_count": 50,
     "metadata": {},
     "output_type": "execute_result"
    }
   ],
   "source": [
    "numerical_col.shape"
   ]
  },
  {
   "cell_type": "markdown",
   "id": "21808851",
   "metadata": {},
   "source": [
    "### Concatenate Numerical and Categorical Columns"
   ]
  },
  {
   "cell_type": "code",
   "execution_count": 51,
   "id": "a1064932",
   "metadata": {},
   "outputs": [
    {
     "name": "stdout",
     "output_type": "stream",
     "text": [
      "(59781, 14)\n"
     ]
    }
   ],
   "source": [
    "numerical_cols = data.select_dtypes(include=['number'])  \n",
    "print(numerical_cols.shape)  # Prints the number of rows and columns of numerical columns\n"
   ]
  },
  {
   "cell_type": "code",
   "execution_count": 52,
   "id": "c2a56629",
   "metadata": {},
   "outputs": [
    {
     "name": "stdout",
     "output_type": "stream",
     "text": [
      "(59781, 34)\n"
     ]
    }
   ],
   "source": [
    "categorical_cols = data.select_dtypes(include=['object'])  \n",
    "print(categorical_cols.shape)  # Prints the number of rows and columns of categorical columns\n"
   ]
  },
  {
   "cell_type": "code",
   "execution_count": 53,
   "id": "b95cda9b",
   "metadata": {},
   "outputs": [
    {
     "data": {
      "text/html": [
       "<div>\n",
       "<style scoped>\n",
       "    .dataframe tbody tr th:only-of-type {\n",
       "        vertical-align: middle;\n",
       "    }\n",
       "\n",
       "    .dataframe tbody tr th {\n",
       "        vertical-align: top;\n",
       "    }\n",
       "\n",
       "    .dataframe thead th {\n",
       "        text-align: right;\n",
       "    }\n",
       "</style>\n",
       "<table border=\"1\" class=\"dataframe\">\n",
       "  <thead>\n",
       "    <tr style=\"text-align: right;\">\n",
       "      <th></th>\n",
       "      <th>encounter_id</th>\n",
       "      <th>patient_nbr</th>\n",
       "      <th>admission_type_id</th>\n",
       "      <th>discharge_disposition_id</th>\n",
       "      <th>admission_source_id</th>\n",
       "      <th>time_in_hospital</th>\n",
       "      <th>num_lab_procedures</th>\n",
       "      <th>num_procedures</th>\n",
       "      <th>num_medications</th>\n",
       "      <th>number_outpatient</th>\n",
       "      <th>...</th>\n",
       "      <th>troglitazone</th>\n",
       "      <th>tolazamide</th>\n",
       "      <th>insulin</th>\n",
       "      <th>glyburide-metformin</th>\n",
       "      <th>glipizide-metformin</th>\n",
       "      <th>glimepiride-pioglitazone</th>\n",
       "      <th>metformin-rosiglitazone</th>\n",
       "      <th>metformin-pioglitazone</th>\n",
       "      <th>change</th>\n",
       "      <th>diabetesMed</th>\n",
       "    </tr>\n",
       "  </thead>\n",
       "  <tbody>\n",
       "    <tr>\n",
       "      <th>20446</th>\n",
       "      <td>72091308</td>\n",
       "      <td>20123568</td>\n",
       "      <td>1</td>\n",
       "      <td>22</td>\n",
       "      <td>7</td>\n",
       "      <td>7</td>\n",
       "      <td>58</td>\n",
       "      <td>2</td>\n",
       "      <td>15</td>\n",
       "      <td>0</td>\n",
       "      <td>...</td>\n",
       "      <td>No</td>\n",
       "      <td>No</td>\n",
       "      <td>Steady</td>\n",
       "      <td>No</td>\n",
       "      <td>No</td>\n",
       "      <td>No</td>\n",
       "      <td>No</td>\n",
       "      <td>No</td>\n",
       "      <td>Ch</td>\n",
       "      <td>Yes</td>\n",
       "    </tr>\n",
       "    <tr>\n",
       "      <th>20737</th>\n",
       "      <td>72848634</td>\n",
       "      <td>20377854</td>\n",
       "      <td>2</td>\n",
       "      <td>1</td>\n",
       "      <td>1</td>\n",
       "      <td>3</td>\n",
       "      <td>59</td>\n",
       "      <td>3</td>\n",
       "      <td>11</td>\n",
       "      <td>0</td>\n",
       "      <td>...</td>\n",
       "      <td>No</td>\n",
       "      <td>No</td>\n",
       "      <td>Steady</td>\n",
       "      <td>No</td>\n",
       "      <td>No</td>\n",
       "      <td>No</td>\n",
       "      <td>No</td>\n",
       "      <td>No</td>\n",
       "      <td>No</td>\n",
       "      <td>Yes</td>\n",
       "    </tr>\n",
       "    <tr>\n",
       "      <th>20824</th>\n",
       "      <td>73062156</td>\n",
       "      <td>20408121</td>\n",
       "      <td>1</td>\n",
       "      <td>1</td>\n",
       "      <td>7</td>\n",
       "      <td>4</td>\n",
       "      <td>56</td>\n",
       "      <td>1</td>\n",
       "      <td>9</td>\n",
       "      <td>0</td>\n",
       "      <td>...</td>\n",
       "      <td>No</td>\n",
       "      <td>No</td>\n",
       "      <td>No</td>\n",
       "      <td>No</td>\n",
       "      <td>No</td>\n",
       "      <td>No</td>\n",
       "      <td>No</td>\n",
       "      <td>No</td>\n",
       "      <td>No</td>\n",
       "      <td>Yes</td>\n",
       "    </tr>\n",
       "    <tr>\n",
       "      <th>21083</th>\n",
       "      <td>73731852</td>\n",
       "      <td>20542797</td>\n",
       "      <td>1</td>\n",
       "      <td>2</td>\n",
       "      <td>7</td>\n",
       "      <td>10</td>\n",
       "      <td>68</td>\n",
       "      <td>1</td>\n",
       "      <td>18</td>\n",
       "      <td>0</td>\n",
       "      <td>...</td>\n",
       "      <td>No</td>\n",
       "      <td>No</td>\n",
       "      <td>Steady</td>\n",
       "      <td>No</td>\n",
       "      <td>No</td>\n",
       "      <td>No</td>\n",
       "      <td>No</td>\n",
       "      <td>No</td>\n",
       "      <td>Ch</td>\n",
       "      <td>Yes</td>\n",
       "    </tr>\n",
       "    <tr>\n",
       "      <th>23668</th>\n",
       "      <td>80820942</td>\n",
       "      <td>20514150</td>\n",
       "      <td>2</td>\n",
       "      <td>1</td>\n",
       "      <td>1</td>\n",
       "      <td>4</td>\n",
       "      <td>33</td>\n",
       "      <td>0</td>\n",
       "      <td>11</td>\n",
       "      <td>0</td>\n",
       "      <td>...</td>\n",
       "      <td>No</td>\n",
       "      <td>No</td>\n",
       "      <td>Up</td>\n",
       "      <td>No</td>\n",
       "      <td>No</td>\n",
       "      <td>No</td>\n",
       "      <td>No</td>\n",
       "      <td>No</td>\n",
       "      <td>Ch</td>\n",
       "      <td>Yes</td>\n",
       "    </tr>\n",
       "  </tbody>\n",
       "</table>\n",
       "<p>5 rows × 48 columns</p>\n",
       "</div>"
      ],
      "text/plain": [
       "       encounter_id  patient_nbr  admission_type_id  discharge_disposition_id  \\\n",
       "20446      72091308     20123568                  1                        22   \n",
       "20737      72848634     20377854                  2                         1   \n",
       "20824      73062156     20408121                  1                         1   \n",
       "21083      73731852     20542797                  1                         2   \n",
       "23668      80820942     20514150                  2                         1   \n",
       "\n",
       "       admission_source_id  time_in_hospital  num_lab_procedures  \\\n",
       "20446                    7                 7                  58   \n",
       "20737                    1                 3                  59   \n",
       "20824                    7                 4                  56   \n",
       "21083                    7                10                  68   \n",
       "23668                    1                 4                  33   \n",
       "\n",
       "       num_procedures  num_medications  number_outpatient  ...  troglitazone  \\\n",
       "20446               2               15                  0  ...            No   \n",
       "20737               3               11                  0  ...            No   \n",
       "20824               1                9                  0  ...            No   \n",
       "21083               1               18                  0  ...            No   \n",
       "23668               0               11                  0  ...            No   \n",
       "\n",
       "       tolazamide  insulin  glyburide-metformin glipizide-metformin  \\\n",
       "20446          No   Steady                   No                  No   \n",
       "20737          No   Steady                   No                  No   \n",
       "20824          No       No                   No                  No   \n",
       "21083          No   Steady                   No                  No   \n",
       "23668          No       Up                   No                  No   \n",
       "\n",
       "      glimepiride-pioglitazone metformin-rosiglitazone metformin-pioglitazone  \\\n",
       "20446                       No                      No                     No   \n",
       "20737                       No                      No                     No   \n",
       "20824                       No                      No                     No   \n",
       "21083                       No                      No                     No   \n",
       "23668                       No                      No                     No   \n",
       "\n",
       "      change diabetesMed  \n",
       "20446     Ch         Yes  \n",
       "20737     No         Yes  \n",
       "20824     No         Yes  \n",
       "21083     Ch         Yes  \n",
       "23668     Ch         Yes  \n",
       "\n",
       "[5 rows x 48 columns]"
      ]
     },
     "execution_count": 53,
     "metadata": {},
     "output_type": "execute_result"
    }
   ],
   "source": [
    "numerical_cols = data.select_dtypes(include=['number'])  # selects numerical columns\n",
    "categorical_cols = data.select_dtypes(include=['object'])  # selects categorical columns\n",
    "\n",
    "# Now concatenate them\n",
    "final_data = pd.concat([numerical_cols, categorical_cols], axis=1)\n",
    "final_data.head()"
   ]
  },
  {
   "cell_type": "code",
   "execution_count": 54,
   "id": "28fb60f2",
   "metadata": {},
   "outputs": [
    {
     "data": {
      "text/plain": [
       "(59781, 48)"
      ]
     },
     "execution_count": 54,
     "metadata": {},
     "output_type": "execute_result"
    }
   ],
   "source": [
    "final_data.shape"
   ]
  },
  {
   "cell_type": "markdown",
   "id": "f6075d17",
   "metadata": {},
   "source": [
    "#### Checking for Outliers"
   ]
  },
  {
   "cell_type": "code",
   "execution_count": 55,
   "id": "d0253004",
   "metadata": {},
   "outputs": [
    {
     "data": {
      "image/png": "[encoded data removed]",
      "text/plain": [
       "<Figure size 432x288 with 1 Axes>"
      ]
     },
     "metadata": {
      "needs_background": "light"
     },
     "output_type": "display_data"
    },
    {
     "data": {
      "image/png": "[encoded data removed]",
      "text/plain": [
       "<Figure size 432x288 with 1 Axes>"
      ]
     },
     "metadata": {
      "needs_background": "light"
     },
     "output_type": "display_data"
    },
    {
     "data": {
      "image/png": "[encoded data removed]",
      "text/plain": [
       "<Figure size 432x288 with 1 Axes>"
      ]
     },
     "metadata": {
      "needs_background": "light"
     },
     "output_type": "display_data"
    },
    {
     "data": {
      "image/png": "[encoded data removed]",
      "text/plain": [
       "<Figure size 432x288 with 1 Axes>"
      ]
     },
     "metadata": {
      "needs_background": "light"
     },
     "output_type": "display_data"
    },
    {
     "data": {
      "image/png": "[encoded data removed]",
      "text/plain": [
       "<Figure size 432x288 with 1 Axes>"
      ]
     },
     "metadata": {
      "needs_background": "light"
     },
     "output_type": "display_data"
    },
    {
     "data": {
      "image/png": "[encoded data removed]",
      "text/plain": [
       "<Figure size 432x288 with 1 Axes>"
      ]
     },
     "metadata": {
      "needs_background": "light"
     },
     "output_type": "display_data"
    },
    {
     "data": {
      "image/png": "[encoded data removed]",
      "text/plain": [
       "<Figure size 432x288 with 1 Axes>"
      ]
     },
     "metadata": {
      "needs_background": "light"
     },
     "output_type": "display_data"
    },
    {
     "data": {
      "image/png": "[encoded data removed]",
      "text/plain": [
       "<Figure size 432x288 with 1 Axes>"
      ]
     },
     "metadata": {
      "needs_background": "light"
     },
     "output_type": "display_data"
    },
    {
     "data": {
      "image/png": "[encoded data removed]",
      "text/plain": [
       "<Figure size 432x288 with 1 Axes>"
      ]
     },
     "metadata": {
      "needs_background": "light"
     },
     "output_type": "display_data"
    },
    {
     "data": {
      "image/png": "[encoded data removed]",
      "text/plain": [
       "<Figure size 432x288 with 1 Axes>"
      ]
     },
     "metadata": {
      "needs_background": "light"
     },
     "output_type": "display_data"
    },
    {
     "data": {
      "image/png": "[encoded data removed]",
      "text/plain": [
       "<Figure size 432x288 with 1 Axes>"
      ]
     },
     "metadata": {
      "needs_background": "light"
     },
     "output_type": "display_data"
    },
    {
     "data": {
      "image/png": "[encoded data removed]",
      "text/plain": [
       "<Figure size 432x288 with 1 Axes>"
      ]
     },
     "metadata": {
      "needs_background": "light"
     },
     "output_type": "display_data"
    },
    {
     "data": {
      "image/png": "[encoded data removed]",
      "text/plain": [
       "<Figure size 432x288 with 1 Axes>"
      ]
     },
     "metadata": {
      "needs_background": "light"
     },
     "output_type": "display_data"
    },
    {
     "data": {
      "image/png": "[encoded data removed]",
      "text/plain": [
       "<Figure size 432x288 with 1 Axes>"
      ]
     },
     "metadata": {
      "needs_background": "light"
     },
     "output_type": "display_data"
    }
   ],
   "source": [
    "for column in data.select_dtypes(include=['int64']).columns:\n",
    "    sns.boxplot(data=final_data, x=column)\n",
    "    plt.title(f'Boxplot for {column}')\n",
    "    plt.show()"
   ]
  },
  {
   "cell_type": "code",
   "execution_count": 56,
   "id": "bcd124f7",
   "metadata": {},
   "outputs": [
    {
     "name": "stdout",
     "output_type": "stream",
     "text": [
      "Number of outliers: 3874\n"
     ]
    }
   ],
   "source": [
    "# Calculate IQR\n",
    "Q1 = final_data['discharge_disposition_id'].quantile(0.25)  # 25th percentile\n",
    "Q3 = final_data['discharge_disposition_id'].quantile(0.75)  # 75th percentile\n",
    "IQR = Q3 - Q1  # Interquartile Range\n",
    "\n",
    "# Define bounds for outliers\n",
    "lower_bound = Q1 - 1.5 * IQR\n",
    "upper_bound = Q3 + 1.5 * IQR\n",
    "\n",
    "# Identify outliers\n",
    "outliers = final_data[(final_data['discharge_disposition_id'] < lower_bound) | (final_data['discharge_disposition_id'] > upper_bound)]\n",
    "print(f\"Number of outliers: {outliers.shape[0]}\")"
   ]
  },
  {
   "cell_type": "code",
   "execution_count": 57,
   "id": "168f948a",
   "metadata": {},
   "outputs": [
    {
     "name": "stdout",
     "output_type": "stream",
     "text": [
      "Number of outliers: 1728\n"
     ]
    }
   ],
   "source": [
    "# Calculate IQR\n",
    "Q1 = final_data['admission_source_id'].quantile(0.25)  # 25th percentile\n",
    "Q3 = final_data['admission_source_id'].quantile(0.75)  # 75th percentile\n",
    "IQR = Q3 - Q1  # Interquartile Range\n",
    "\n",
    "# Define bounds for outliers\n",
    "lower_bound = Q1 - 1.5 * IQR\n",
    "upper_bound = Q3 + 1.5 * IQR\n",
    "\n",
    "# Identify outliers\n",
    "outliers = final_data[(final_data['admission_source_id'] < lower_bound) | (final_data['admission_source_id'] > upper_bound)]\n",
    "print(f\"Number of outliers: {outliers.shape[0]}\")"
   ]
  },
  {
   "cell_type": "code",
   "execution_count": 58,
   "id": "1f075ea0",
   "metadata": {},
   "outputs": [
    {
     "name": "stdout",
     "output_type": "stream",
     "text": [
      "Number of outliers: 79\n"
     ]
    }
   ],
   "source": [
    "# Calculate IQR\n",
    "Q1 = final_data['num_lab_procedures'].quantile(0.25)  # 25th percentile\n",
    "Q3 = final_data['num_lab_procedures'].quantile(0.75)  # 75th percentile\n",
    "IQR = Q3 - Q1  # Interquartile Range\n",
    "\n",
    "# Define bounds for outliers\n",
    "lower_bound = Q1 - 1.5 * IQR\n",
    "upper_bound = Q3 + 1.5 * IQR\n",
    "\n",
    "# Identify outliers\n",
    "outliers = final_data[(final_data['num_lab_procedures'] < lower_bound) | (final_data['num_lab_procedures'] > upper_bound)]\n",
    "print(f\"Number of outliers: {outliers.shape[0]}\")"
   ]
  },
  {
   "cell_type": "code",
   "execution_count": 59,
   "id": "320407f8",
   "metadata": {},
   "outputs": [
    {
     "name": "stdout",
     "output_type": "stream",
     "text": [
      "Number of outliers: 1776\n"
     ]
    }
   ],
   "source": [
    "# Calculate IQR\n",
    "Q1 = final_data['num_medications'].quantile(0.25)  # 25th percentile\n",
    "Q3 = final_data['num_medications'].quantile(0.75)  # 75th percentile\n",
    "IQR = Q3 - Q1  # Interquartile Range\n",
    "\n",
    "# Define bounds for outliers\n",
    "lower_bound = Q1 - 1.5 * IQR\n",
    "upper_bound = Q3 + 1.5 * IQR\n",
    "\n",
    "# Identify outliers\n",
    "outliers = final_data[(final_data['num_medications'] < lower_bound) | (final_data['num_medications'] > upper_bound)]\n",
    "print(f\"Number of outliers: {outliers.shape[0]}\")"
   ]
  },
  {
   "cell_type": "code",
   "execution_count": 60,
   "id": "0a98a4d3",
   "metadata": {},
   "outputs": [
    {
     "name": "stdout",
     "output_type": "stream",
     "text": [
      "Number of outliers: 12230\n"
     ]
    }
   ],
   "source": [
    "# Calculate IQR\n",
    "Q1 = final_data['number_outpatient'].quantile(0.25)  # 25th percentile\n",
    "Q3 = final_data['number_outpatient'].quantile(0.75)  # 75th percentile\n",
    "IQR = Q3 - Q1  # Interquartile Range\n",
    "\n",
    "# Define bounds for outliers\n",
    "lower_bound = Q1 - 1.5 * IQR\n",
    "upper_bound = Q3 + 1.5 * IQR\n",
    "\n",
    "# Identify outliers\n",
    "outliers = final_data[(final_data['number_outpatient'] < lower_bound) | (final_data['number_outpatient'] > upper_bound)]\n",
    "print(f\"Number of outliers: {outliers.shape[0]}\")"
   ]
  },
  {
   "cell_type": "code",
   "execution_count": 61,
   "id": "cbf5c192",
   "metadata": {},
   "outputs": [
    {
     "name": "stdout",
     "output_type": "stream",
     "text": [
      "Number of outliers: 8652\n"
     ]
    }
   ],
   "source": [
    "# Calculate IQR\n",
    "Q1 = final_data['number_emergency'].quantile(0.25)  # 25th percentile\n",
    "Q3 = final_data['number_emergency'].quantile(0.75)  # 75th percentile\n",
    "IQR = Q3 - Q1  # Interquartile Range\n",
    "\n",
    "# Define bounds for outliers\n",
    "lower_bound = Q1 - 1.5 * IQR\n",
    "upper_bound = Q3 + 1.5 * IQR\n",
    "\n",
    "# Identify outliers\n",
    "outliers = final_data[(final_data['number_emergency'] < lower_bound) | (final_data['number_emergency'] > upper_bound)]\n",
    "print(f\"Number of outliers: {outliers.shape[0]}\")"
   ]
  },
  {
   "cell_type": "code",
   "execution_count": 62,
   "id": "c567b9dc",
   "metadata": {},
   "outputs": [
    {
     "name": "stdout",
     "output_type": "stream",
     "text": [
      "Number of outliers: 4420\n"
     ]
    }
   ],
   "source": [
    "# Calculate IQR\n",
    "Q1 = final_data['number_inpatient'].quantile(0.25)  # 25th percentile\n",
    "Q3 = final_data['number_inpatient'].quantile(0.75)  # 75th percentile\n",
    "IQR = Q3 - Q1  # Interquartile Range\n",
    "\n",
    "# Define bounds for outliers\n",
    "lower_bound = Q1 - 1.5 * IQR\n",
    "upper_bound = Q3 + 1.5 * IQR\n",
    "\n",
    "# Identify outliers\n",
    "outliers = final_data[(final_data['number_inpatient'] < lower_bound) | (final_data['number_inpatient'] > upper_bound)]\n",
    "print(f\"Number of outliers: {outliers.shape[0]}\")"
   ]
  },
  {
   "cell_type": "code",
   "execution_count": 63,
   "id": "69c4129f",
   "metadata": {},
   "outputs": [
    {
     "data": {
      "text/html": [
       "<div>\n",
       "<style scoped>\n",
       "    .dataframe tbody tr th:only-of-type {\n",
       "        vertical-align: middle;\n",
       "    }\n",
       "\n",
       "    .dataframe tbody tr th {\n",
       "        vertical-align: top;\n",
       "    }\n",
       "\n",
       "    .dataframe thead th {\n",
       "        text-align: right;\n",
       "    }\n",
       "</style>\n",
       "<table border=\"1\" class=\"dataframe\">\n",
       "  <thead>\n",
       "    <tr style=\"text-align: right;\">\n",
       "      <th></th>\n",
       "      <th>encounter_id</th>\n",
       "      <th>patient_nbr</th>\n",
       "      <th>admission_type_id</th>\n",
       "      <th>discharge_disposition_id</th>\n",
       "      <th>admission_source_id</th>\n",
       "      <th>time_in_hospital</th>\n",
       "      <th>num_lab_procedures</th>\n",
       "      <th>num_procedures</th>\n",
       "      <th>num_medications</th>\n",
       "      <th>number_outpatient</th>\n",
       "      <th>...</th>\n",
       "      <th>troglitazone</th>\n",
       "      <th>tolazamide</th>\n",
       "      <th>insulin</th>\n",
       "      <th>glyburide-metformin</th>\n",
       "      <th>glipizide-metformin</th>\n",
       "      <th>glimepiride-pioglitazone</th>\n",
       "      <th>metformin-rosiglitazone</th>\n",
       "      <th>metformin-pioglitazone</th>\n",
       "      <th>change</th>\n",
       "      <th>diabetesMed</th>\n",
       "    </tr>\n",
       "    <tr>\n",
       "      <th>readmitted</th>\n",
       "      <th></th>\n",
       "      <th></th>\n",
       "      <th></th>\n",
       "      <th></th>\n",
       "      <th></th>\n",
       "      <th></th>\n",
       "      <th></th>\n",
       "      <th></th>\n",
       "      <th></th>\n",
       "      <th></th>\n",
       "      <th></th>\n",
       "      <th></th>\n",
       "      <th></th>\n",
       "      <th></th>\n",
       "      <th></th>\n",
       "      <th></th>\n",
       "      <th></th>\n",
       "      <th></th>\n",
       "      <th></th>\n",
       "      <th></th>\n",
       "      <th></th>\n",
       "    </tr>\n",
       "  </thead>\n",
       "  <tbody>\n",
       "    <tr>\n",
       "      <th>0</th>\n",
       "      <td>31885</td>\n",
       "      <td>31885</td>\n",
       "      <td>31885</td>\n",
       "      <td>31885</td>\n",
       "      <td>31885</td>\n",
       "      <td>31885</td>\n",
       "      <td>31885</td>\n",
       "      <td>31885</td>\n",
       "      <td>31885</td>\n",
       "      <td>31885</td>\n",
       "      <td>...</td>\n",
       "      <td>31885</td>\n",
       "      <td>31885</td>\n",
       "      <td>31885</td>\n",
       "      <td>31885</td>\n",
       "      <td>31885</td>\n",
       "      <td>31885</td>\n",
       "      <td>31885</td>\n",
       "      <td>31885</td>\n",
       "      <td>31885</td>\n",
       "      <td>31885</td>\n",
       "    </tr>\n",
       "    <tr>\n",
       "      <th>1</th>\n",
       "      <td>21316</td>\n",
       "      <td>21316</td>\n",
       "      <td>21316</td>\n",
       "      <td>21316</td>\n",
       "      <td>21316</td>\n",
       "      <td>21316</td>\n",
       "      <td>21316</td>\n",
       "      <td>21316</td>\n",
       "      <td>21316</td>\n",
       "      <td>21316</td>\n",
       "      <td>...</td>\n",
       "      <td>21316</td>\n",
       "      <td>21316</td>\n",
       "      <td>21316</td>\n",
       "      <td>21316</td>\n",
       "      <td>21316</td>\n",
       "      <td>21316</td>\n",
       "      <td>21316</td>\n",
       "      <td>21316</td>\n",
       "      <td>21316</td>\n",
       "      <td>21316</td>\n",
       "    </tr>\n",
       "    <tr>\n",
       "      <th>2</th>\n",
       "      <td>6580</td>\n",
       "      <td>6580</td>\n",
       "      <td>6580</td>\n",
       "      <td>6580</td>\n",
       "      <td>6580</td>\n",
       "      <td>6580</td>\n",
       "      <td>6580</td>\n",
       "      <td>6580</td>\n",
       "      <td>6580</td>\n",
       "      <td>6580</td>\n",
       "      <td>...</td>\n",
       "      <td>6580</td>\n",
       "      <td>6580</td>\n",
       "      <td>6580</td>\n",
       "      <td>6580</td>\n",
       "      <td>6580</td>\n",
       "      <td>6580</td>\n",
       "      <td>6580</td>\n",
       "      <td>6580</td>\n",
       "      <td>6580</td>\n",
       "      <td>6580</td>\n",
       "    </tr>\n",
       "  </tbody>\n",
       "</table>\n",
       "<p>3 rows × 47 columns</p>\n",
       "</div>"
      ],
      "text/plain": [
       "            encounter_id  patient_nbr  admission_type_id  \\\n",
       "readmitted                                                 \n",
       "0                  31885        31885              31885   \n",
       "1                  21316        21316              21316   \n",
       "2                   6580         6580               6580   \n",
       "\n",
       "            discharge_disposition_id  admission_source_id  time_in_hospital  \\\n",
       "readmitted                                                                    \n",
       "0                              31885                31885             31885   \n",
       "1                              21316                21316             21316   \n",
       "2                               6580                 6580              6580   \n",
       "\n",
       "            num_lab_procedures  num_procedures  num_medications  \\\n",
       "readmitted                                                        \n",
       "0                        31885           31885            31885   \n",
       "1                        21316           21316            21316   \n",
       "2                         6580            6580             6580   \n",
       "\n",
       "            number_outpatient  ...  troglitazone  tolazamide  insulin  \\\n",
       "readmitted                     ...                                      \n",
       "0                       31885  ...         31885       31885    31885   \n",
       "1                       21316  ...         21316       21316    21316   \n",
       "2                        6580  ...          6580        6580     6580   \n",
       "\n",
       "            glyburide-metformin  glipizide-metformin  \\\n",
       "readmitted                                             \n",
       "0                         31885                31885   \n",
       "1                         21316                21316   \n",
       "2                          6580                 6580   \n",
       "\n",
       "            glimepiride-pioglitazone  metformin-rosiglitazone  \\\n",
       "readmitted                                                      \n",
       "0                              31885                    31885   \n",
       "1                              21316                    21316   \n",
       "2                               6580                     6580   \n",
       "\n",
       "            metformin-pioglitazone  change  diabetesMed  \n",
       "readmitted                                               \n",
       "0                            31885   31885        31885  \n",
       "1                            21316   21316        21316  \n",
       "2                             6580    6580         6580  \n",
       "\n",
       "[3 rows x 47 columns]"
      ]
     },
     "execution_count": 63,
     "metadata": {},
     "output_type": "execute_result"
    }
   ],
   "source": [
    "final_data.groupby('readmitted').count()"
   ]
  },
  {
   "cell_type": "code",
   "execution_count": 64,
   "id": "549a9d6f",
   "metadata": {},
   "outputs": [
    {
     "data": {
      "text/html": [
       "<div>\n",
       "<style scoped>\n",
       "    .dataframe tbody tr th:only-of-type {\n",
       "        vertical-align: middle;\n",
       "    }\n",
       "\n",
       "    .dataframe tbody tr th {\n",
       "        vertical-align: top;\n",
       "    }\n",
       "\n",
       "    .dataframe thead th {\n",
       "        text-align: right;\n",
       "    }\n",
       "</style>\n",
       "<table border=\"1\" class=\"dataframe\">\n",
       "  <thead>\n",
       "    <tr style=\"text-align: right;\">\n",
       "      <th></th>\n",
       "      <th>encounter_id</th>\n",
       "      <th>patient_nbr</th>\n",
       "      <th>admission_type_id</th>\n",
       "      <th>discharge_disposition_id</th>\n",
       "      <th>admission_source_id</th>\n",
       "      <th>time_in_hospital</th>\n",
       "      <th>num_lab_procedures</th>\n",
       "      <th>num_procedures</th>\n",
       "      <th>num_medications</th>\n",
       "      <th>number_outpatient</th>\n",
       "      <th>number_emergency</th>\n",
       "      <th>number_inpatient</th>\n",
       "      <th>number_diagnoses</th>\n",
       "      <th>readmitted</th>\n",
       "    </tr>\n",
       "  </thead>\n",
       "  <tbody>\n",
       "    <tr>\n",
       "      <th>encounter_id</th>\n",
       "      <td>1.000000</td>\n",
       "      <td>0.399405</td>\n",
       "      <td>-0.156596</td>\n",
       "      <td>0.015168</td>\n",
       "      <td>-0.062664</td>\n",
       "      <td>-0.027902</td>\n",
       "      <td>0.040087</td>\n",
       "      <td>0.019798</td>\n",
       "      <td>0.068042</td>\n",
       "      <td>0.057175</td>\n",
       "      <td>0.036176</td>\n",
       "      <td>0.037619</td>\n",
       "      <td>0.251615</td>\n",
       "      <td>-0.033506</td>\n",
       "    </tr>\n",
       "    <tr>\n",
       "      <th>patient_nbr</th>\n",
       "      <td>0.399405</td>\n",
       "      <td>1.000000</td>\n",
       "      <td>-0.058040</td>\n",
       "      <td>0.012577</td>\n",
       "      <td>-0.025358</td>\n",
       "      <td>0.001661</td>\n",
       "      <td>0.044891</td>\n",
       "      <td>0.002098</td>\n",
       "      <td>-0.017193</td>\n",
       "      <td>0.069512</td>\n",
       "      <td>0.031676</td>\n",
       "      <td>0.005245</td>\n",
       "      <td>0.250323</td>\n",
       "      <td>0.065301</td>\n",
       "    </tr>\n",
       "    <tr>\n",
       "      <th>admission_type_id</th>\n",
       "      <td>-0.156596</td>\n",
       "      <td>-0.058040</td>\n",
       "      <td>1.000000</td>\n",
       "      <td>0.018237</td>\n",
       "      <td>-0.318542</td>\n",
       "      <td>-0.022384</td>\n",
       "      <td>-0.269338</td>\n",
       "      <td>0.136562</td>\n",
       "      <td>0.060152</td>\n",
       "      <td>0.052641</td>\n",
       "      <td>-0.023327</td>\n",
       "      <td>-0.038298</td>\n",
       "      <td>-0.076481</td>\n",
       "      <td>-0.033200</td>\n",
       "    </tr>\n",
       "    <tr>\n",
       "      <th>discharge_disposition_id</th>\n",
       "      <td>0.015168</td>\n",
       "      <td>0.012577</td>\n",
       "      <td>0.018237</td>\n",
       "      <td>1.000000</td>\n",
       "      <td>0.020954</td>\n",
       "      <td>0.178315</td>\n",
       "      <td>0.069865</td>\n",
       "      <td>0.008403</td>\n",
       "      <td>0.157656</td>\n",
       "      <td>0.016875</td>\n",
       "      <td>-0.009770</td>\n",
       "      <td>0.038363</td>\n",
       "      <td>0.121104</td>\n",
       "      <td>0.030378</td>\n",
       "    </tr>\n",
       "    <tr>\n",
       "      <th>admission_source_id</th>\n",
       "      <td>-0.062664</td>\n",
       "      <td>-0.025358</td>\n",
       "      <td>-0.318542</td>\n",
       "      <td>0.020954</td>\n",
       "      <td>1.000000</td>\n",
       "      <td>0.010914</td>\n",
       "      <td>0.034314</td>\n",
       "      <td>-0.186660</td>\n",
       "      <td>-0.076402</td>\n",
       "      <td>0.019741</td>\n",
       "      <td>0.065792</td>\n",
       "      <td>0.061165</td>\n",
       "      <td>0.123286</td>\n",
       "      <td>0.021385</td>\n",
       "    </tr>\n",
       "    <tr>\n",
       "      <th>time_in_hospital</th>\n",
       "      <td>-0.027902</td>\n",
       "      <td>0.001661</td>\n",
       "      <td>-0.022384</td>\n",
       "      <td>0.178315</td>\n",
       "      <td>0.010914</td>\n",
       "      <td>1.000000</td>\n",
       "      <td>0.332583</td>\n",
       "      <td>0.169474</td>\n",
       "      <td>0.478013</td>\n",
       "      <td>-0.000329</td>\n",
       "      <td>-0.002160</td>\n",
       "      <td>0.067409</td>\n",
       "      <td>0.219540</td>\n",
       "      <td>0.049132</td>\n",
       "    </tr>\n",
       "    <tr>\n",
       "      <th>num_lab_procedures</th>\n",
       "      <td>0.040087</td>\n",
       "      <td>0.044891</td>\n",
       "      <td>-0.269338</td>\n",
       "      <td>0.069865</td>\n",
       "      <td>0.034314</td>\n",
       "      <td>0.332583</td>\n",
       "      <td>1.000000</td>\n",
       "      <td>0.016650</td>\n",
       "      <td>0.291709</td>\n",
       "      <td>0.009213</td>\n",
       "      <td>0.010643</td>\n",
       "      <td>0.034500</td>\n",
       "      <td>0.169782</td>\n",
       "      <td>0.037018</td>\n",
       "    </tr>\n",
       "    <tr>\n",
       "      <th>num_procedures</th>\n",
       "      <td>0.019798</td>\n",
       "      <td>0.002098</td>\n",
       "      <td>0.136562</td>\n",
       "      <td>0.008403</td>\n",
       "      <td>-0.186660</td>\n",
       "      <td>0.169474</td>\n",
       "      <td>0.016650</td>\n",
       "      <td>1.000000</td>\n",
       "      <td>0.346864</td>\n",
       "      <td>-0.016480</td>\n",
       "      <td>-0.035566</td>\n",
       "      <td>-0.060671</td>\n",
       "      <td>0.050434</td>\n",
       "      <td>-0.033536</td>\n",
       "    </tr>\n",
       "    <tr>\n",
       "      <th>num_medications</th>\n",
       "      <td>0.068042</td>\n",
       "      <td>-0.017193</td>\n",
       "      <td>0.060152</td>\n",
       "      <td>0.157656</td>\n",
       "      <td>-0.076402</td>\n",
       "      <td>0.478013</td>\n",
       "      <td>0.291709</td>\n",
       "      <td>0.346864</td>\n",
       "      <td>1.000000</td>\n",
       "      <td>0.048745</td>\n",
       "      <td>0.010274</td>\n",
       "      <td>0.081626</td>\n",
       "      <td>0.263607</td>\n",
       "      <td>0.062236</td>\n",
       "    </tr>\n",
       "    <tr>\n",
       "      <th>number_outpatient</th>\n",
       "      <td>0.057175</td>\n",
       "      <td>0.069512</td>\n",
       "      <td>0.052641</td>\n",
       "      <td>0.016875</td>\n",
       "      <td>0.019741</td>\n",
       "      <td>-0.000329</td>\n",
       "      <td>0.009213</td>\n",
       "      <td>-0.016480</td>\n",
       "      <td>0.048745</td>\n",
       "      <td>1.000000</td>\n",
       "      <td>0.075575</td>\n",
       "      <td>0.107239</td>\n",
       "      <td>0.091848</td>\n",
       "      <td>0.072461</td>\n",
       "    </tr>\n",
       "    <tr>\n",
       "      <th>number_emergency</th>\n",
       "      <td>0.036176</td>\n",
       "      <td>0.031676</td>\n",
       "      <td>-0.023327</td>\n",
       "      <td>-0.009770</td>\n",
       "      <td>0.065792</td>\n",
       "      <td>-0.002160</td>\n",
       "      <td>0.010643</td>\n",
       "      <td>-0.035566</td>\n",
       "      <td>0.010274</td>\n",
       "      <td>0.075575</td>\n",
       "      <td>1.000000</td>\n",
       "      <td>0.301151</td>\n",
       "      <td>0.048333</td>\n",
       "      <td>0.117033</td>\n",
       "    </tr>\n",
       "    <tr>\n",
       "      <th>number_inpatient</th>\n",
       "      <td>0.037619</td>\n",
       "      <td>0.005245</td>\n",
       "      <td>-0.038298</td>\n",
       "      <td>0.038363</td>\n",
       "      <td>0.061165</td>\n",
       "      <td>0.067409</td>\n",
       "      <td>0.034500</td>\n",
       "      <td>-0.060671</td>\n",
       "      <td>0.081626</td>\n",
       "      <td>0.107239</td>\n",
       "      <td>0.301151</td>\n",
       "      <td>1.000000</td>\n",
       "      <td>0.101925</td>\n",
       "      <td>0.240650</td>\n",
       "    </tr>\n",
       "    <tr>\n",
       "      <th>number_diagnoses</th>\n",
       "      <td>0.251615</td>\n",
       "      <td>0.250323</td>\n",
       "      <td>-0.076481</td>\n",
       "      <td>0.121104</td>\n",
       "      <td>0.123286</td>\n",
       "      <td>0.219540</td>\n",
       "      <td>0.169782</td>\n",
       "      <td>0.050434</td>\n",
       "      <td>0.263607</td>\n",
       "      <td>0.091848</td>\n",
       "      <td>0.048333</td>\n",
       "      <td>0.101925</td>\n",
       "      <td>1.000000</td>\n",
       "      <td>0.110448</td>\n",
       "    </tr>\n",
       "    <tr>\n",
       "      <th>readmitted</th>\n",
       "      <td>-0.033506</td>\n",
       "      <td>0.065301</td>\n",
       "      <td>-0.033200</td>\n",
       "      <td>0.030378</td>\n",
       "      <td>0.021385</td>\n",
       "      <td>0.049132</td>\n",
       "      <td>0.037018</td>\n",
       "      <td>-0.033536</td>\n",
       "      <td>0.062236</td>\n",
       "      <td>0.072461</td>\n",
       "      <td>0.117033</td>\n",
       "      <td>0.240650</td>\n",
       "      <td>0.110448</td>\n",
       "      <td>1.000000</td>\n",
       "    </tr>\n",
       "  </tbody>\n",
       "</table>\n",
       "</div>"
      ],
      "text/plain": [
       "                          encounter_id  patient_nbr  admission_type_id  \\\n",
       "encounter_id                  1.000000     0.399405          -0.156596   \n",
       "patient_nbr                   0.399405     1.000000          -0.058040   \n",
       "admission_type_id            -0.156596    -0.058040           1.000000   \n",
       "discharge_disposition_id      0.015168     0.012577           0.018237   \n",
       "admission_source_id          -0.062664    -0.025358          -0.318542   \n",
       "time_in_hospital             -0.027902     0.001661          -0.022384   \n",
       "num_lab_procedures            0.040087     0.044891          -0.269338   \n",
       "num_procedures                0.019798     0.002098           0.136562   \n",
       "num_medications               0.068042    -0.017193           0.060152   \n",
       "number_outpatient             0.057175     0.069512           0.052641   \n",
       "number_emergency              0.036176     0.031676          -0.023327   \n",
       "number_inpatient              0.037619     0.005245          -0.038298   \n",
       "number_diagnoses              0.251615     0.250323          -0.076481   \n",
       "readmitted                   -0.033506     0.065301          -0.033200   \n",
       "\n",
       "                          discharge_disposition_id  admission_source_id  \\\n",
       "encounter_id                              0.015168            -0.062664   \n",
       "patient_nbr                               0.012577            -0.025358   \n",
       "admission_type_id                         0.018237            -0.318542   \n",
       "discharge_disposition_id                  1.000000             0.020954   \n",
       "admission_source_id                       0.020954             1.000000   \n",
       "time_in_hospital                          0.178315             0.010914   \n",
       "num_lab_procedures                        0.069865             0.034314   \n",
       "num_procedures                            0.008403            -0.186660   \n",
       "num_medications                           0.157656            -0.076402   \n",
       "number_outpatient                         0.016875             0.019741   \n",
       "number_emergency                         -0.009770             0.065792   \n",
       "number_inpatient                          0.038363             0.061165   \n",
       "number_diagnoses                          0.121104             0.123286   \n",
       "readmitted                                0.030378             0.021385   \n",
       "\n",
       "                          time_in_hospital  num_lab_procedures  \\\n",
       "encounter_id                     -0.027902            0.040087   \n",
       "patient_nbr                       0.001661            0.044891   \n",
       "admission_type_id                -0.022384           -0.269338   \n",
       "discharge_disposition_id          0.178315            0.069865   \n",
       "admission_source_id               0.010914            0.034314   \n",
       "time_in_hospital                  1.000000            0.332583   \n",
       "num_lab_procedures                0.332583            1.000000   \n",
       "num_procedures                    0.169474            0.016650   \n",
       "num_medications                   0.478013            0.291709   \n",
       "number_outpatient                -0.000329            0.009213   \n",
       "number_emergency                 -0.002160            0.010643   \n",
       "number_inpatient                  0.067409            0.034500   \n",
       "number_diagnoses                  0.219540            0.169782   \n",
       "readmitted                        0.049132            0.037018   \n",
       "\n",
       "                          num_procedures  num_medications  number_outpatient  \\\n",
       "encounter_id                    0.019798         0.068042           0.057175   \n",
       "patient_nbr                     0.002098        -0.017193           0.069512   \n",
       "admission_type_id               0.136562         0.060152           0.052641   \n",
       "discharge_disposition_id        0.008403         0.157656           0.016875   \n",
       "admission_source_id            -0.186660        -0.076402           0.019741   \n",
       "time_in_hospital                0.169474         0.478013          -0.000329   \n",
       "num_lab_procedures              0.016650         0.291709           0.009213   \n",
       "num_procedures                  1.000000         0.346864          -0.016480   \n",
       "num_medications                 0.346864         1.000000           0.048745   \n",
       "number_outpatient              -0.016480         0.048745           1.000000   \n",
       "number_emergency               -0.035566         0.010274           0.075575   \n",
       "number_inpatient               -0.060671         0.081626           0.107239   \n",
       "number_diagnoses                0.050434         0.263607           0.091848   \n",
       "readmitted                     -0.033536         0.062236           0.072461   \n",
       "\n",
       "                          number_emergency  number_inpatient  \\\n",
       "encounter_id                      0.036176          0.037619   \n",
       "patient_nbr                       0.031676          0.005245   \n",
       "admission_type_id                -0.023327         -0.038298   \n",
       "discharge_disposition_id         -0.009770          0.038363   \n",
       "admission_source_id               0.065792          0.061165   \n",
       "time_in_hospital                 -0.002160          0.067409   \n",
       "num_lab_procedures                0.010643          0.034500   \n",
       "num_procedures                   -0.035566         -0.060671   \n",
       "num_medications                   0.010274          0.081626   \n",
       "number_outpatient                 0.075575          0.107239   \n",
       "number_emergency                  1.000000          0.301151   \n",
       "number_inpatient                  0.301151          1.000000   \n",
       "number_diagnoses                  0.048333          0.101925   \n",
       "readmitted                        0.117033          0.240650   \n",
       "\n",
       "                          number_diagnoses  readmitted  \n",
       "encounter_id                      0.251615   -0.033506  \n",
       "patient_nbr                       0.250323    0.065301  \n",
       "admission_type_id                -0.076481   -0.033200  \n",
       "discharge_disposition_id          0.121104    0.030378  \n",
       "admission_source_id               0.123286    0.021385  \n",
       "time_in_hospital                  0.219540    0.049132  \n",
       "num_lab_procedures                0.169782    0.037018  \n",
       "num_procedures                    0.050434   -0.033536  \n",
       "num_medications                   0.263607    0.062236  \n",
       "number_outpatient                 0.091848    0.072461  \n",
       "number_emergency                  0.048333    0.117033  \n",
       "number_inpatient                  0.101925    0.240650  \n",
       "number_diagnoses                  1.000000    0.110448  \n",
       "readmitted                        0.110448    1.000000  "
      ]
     },
     "execution_count": 64,
     "metadata": {},
     "output_type": "execute_result"
    }
   ],
   "source": [
    "final_data.corr()"
   ]
  },
  {
   "cell_type": "code",
   "execution_count": 102,
   "id": "f1237037",
   "metadata": {},
   "outputs": [],
   "source": [
    "# import pandas as pd\n",
    "\n",
    "\n",
    "# # Check if any columns are identical\n",
    "# identical_columns = final_data.columns[final_data.nunique() == 1]  # Columns with only one unique value\n",
    "# print(identical_columns)\n",
    "\n",
    "# # Check for identical columns by comparing all columns\n",
    "# duplicates = final_data.T.duplicated()  # Transpose and check for duplicates\n",
    "# print(final_data.columns[duplicates])\n"
   ]
  },
  {
   "cell_type": "code",
   "execution_count": 101,
   "id": "216aea91",
   "metadata": {},
   "outputs": [],
   "source": [
    "# Check if the values in the columns are identical\n",
    "# final_data['troglitazone'].equals(final_data['metformin-rosiglitazone'])  # Returns True if identical\n"
   ]
  },
  {
   "cell_type": "code",
   "execution_count": 100,
   "id": "7ff4fa79",
   "metadata": {},
   "outputs": [],
   "source": [
    "# Check if the values in the columns are identical\n",
    "# final_data['acetohexamide'].equals(final_data['metformin-rosiglitazone'])  # Returns True if identical\n"
   ]
  },
  {
   "cell_type": "code",
   "execution_count": 99,
   "id": "91cb3d53",
   "metadata": {},
   "outputs": [],
   "source": [
    "# Check if the values in the columns are identical\n",
    "# final_data['acetohexamide'].equals(final_data['troglitazone'])  # Returns True if identical\n"
   ]
  },
  {
   "cell_type": "code",
   "execution_count": null,
   "id": "a8634e55",
   "metadata": {},
   "outputs": [],
   "source": []
  },
  {
   "cell_type": "code",
   "execution_count": null,
   "id": "7d00ef9e",
   "metadata": {},
   "outputs": [],
   "source": []
  },
  {
   "cell_type": "code",
   "execution_count": null,
   "id": "aa8cb781",
   "metadata": {},
   "outputs": [],
   "source": []
  },
  {
   "cell_type": "code",
   "execution_count": null,
   "id": "d1f34128",
   "metadata": {},
   "outputs": [],
   "source": []
  },
  {
   "cell_type": "code",
   "execution_count": null,
   "id": "e217dbdf",
   "metadata": {},
   "outputs": [],
   "source": []
  },
  {
   "cell_type": "code",
   "execution_count": null,
   "id": "371af97b",
   "metadata": {},
   "outputs": [],
   "source": []
  },
  {
   "cell_type": "code",
   "execution_count": null,
   "id": "9d3a710b",
   "metadata": {},
   "outputs": [],
   "source": []
  },
  {
   "cell_type": "code",
   "execution_count": null,
   "id": "b90748e3",
   "metadata": {},
   "outputs": [],
   "source": []
  },
  {
   "cell_type": "markdown",
   "id": "7c170178",
   "metadata": {},
   "source": [
    "# Data Visualization"
   ]
  },
  {
   "cell_type": "markdown",
   "id": "e42a169e",
   "metadata": {},
   "source": [
    "## Univariate Analysis"
   ]
  },
  {
   "cell_type": "markdown",
   "id": "cb9e7b73",
   "metadata": {},
   "source": [
    "### Readmitted"
   ]
  },
  {
   "cell_type": "code",
   "execution_count": 69,
   "id": "ee8df384",
   "metadata": {},
   "outputs": [
    {
     "data": {
      "image/png": "[encoded data removed]",
      "text/plain": [
       "<Figure size 432x288 with 1 Axes>"
      ]
     },
     "metadata": {
      "needs_background": "light"
     },
     "output_type": "display_data"
    }
   ],
   "source": [
    "import pandas as pd\n",
    "import numpy as np\n",
    "import seaborn as sns\n",
    "import matplotlib.pyplot as plt\n",
    "\n",
    "sns.countplot(x='readmitted', data=final_data)\n",
    "\n",
    "plt.title('Distribution of Readmitted Patients')\n",
    "plt.xlabel('Readmitted')\n",
    "plt.ylabel('Count')\n",
    "\n",
    "# Display the plot\n",
    "plt.show()\n",
    "\n",
    "# 0 represents \n",
    "# 1 represents\n",
    "# 2 represents"
   ]
  },
  {
   "cell_type": "markdown",
   "id": "0584089d",
   "metadata": {},
   "source": [
    "### Race"
   ]
  },
  {
   "cell_type": "code",
   "execution_count": 70,
   "id": "277d3e42",
   "metadata": {},
   "outputs": [
    {
     "data": {
      "image/png": "[encoded data removed]",
      "text/plain": [
       "<Figure size 432x288 with 1 Axes>"
      ]
     },
     "metadata": {
      "needs_background": "light"
     },
     "output_type": "display_data"
    }
   ],
   "source": [
    "import pandas as pd\n",
    "import numpy as np\n",
    "import seaborn as sns\n",
    "import matplotlib.pyplot as plt\n",
    "\n",
    "sns.countplot(x='race', data=final_data)\n",
    "\n",
    "plt.title('Distribution of Race')\n",
    "plt.xlabel('Race')\n",
    "plt.ylabel('Count')\n",
    "\n",
    "# Display the plot\n",
    "plt.show()"
   ]
  },
  {
   "cell_type": "markdown",
   "id": "52edd3d1",
   "metadata": {},
   "source": [
    "### Gender"
   ]
  },
  {
   "cell_type": "code",
   "execution_count": 71,
   "id": "0afb6f05",
   "metadata": {},
   "outputs": [
    {
     "data": {
      "image/png": "[encoded data removed]",
      "text/plain": [
       "<Figure size 432x288 with 1 Axes>"
      ]
     },
     "metadata": {
      "needs_background": "light"
     },
     "output_type": "display_data"
    }
   ],
   "source": [
    "import pandas as pd\n",
    "import numpy as np\n",
    "import seaborn as sns\n",
    "import matplotlib.pyplot as plt\n",
    "\n",
    "sns.countplot(x='gender', data=final_data)\n",
    "\n",
    "plt.title('Distribution of Gender')\n",
    "plt.xlabel('Gender')\n",
    "plt.ylabel('Count')\n",
    "\n",
    "# Display the plot\n",
    "plt.show()"
   ]
  },
  {
   "cell_type": "markdown",
   "id": "c0c686bf",
   "metadata": {},
   "source": [
    "### Age"
   ]
  },
  {
   "cell_type": "code",
   "execution_count": 72,
   "id": "3d1ef073",
   "metadata": {},
   "outputs": [
    {
     "data": {
      "image/png": "[encoded data removed]",
      "text/plain": [
       "<Figure size 432x288 with 1 Axes>"
      ]
     },
     "metadata": {
      "needs_background": "light"
     },
     "output_type": "display_data"
    }
   ],
   "source": [
    "import pandas as pd\n",
    "import numpy as np\n",
    "import seaborn as sns\n",
    "import matplotlib.pyplot as plt\n",
    "\n",
    "sns.countplot(x='weight', data=final_data)\n",
    "\n",
    "plt.title('Distribution of Weight')\n",
    "plt.xlabel('Weight')\n",
    "plt.ylabel('Count')\n",
    "plt.xticks(rotation = 90)\n",
    "\n",
    "# Display the plot\n",
    "plt.show()"
   ]
  },
  {
   "cell_type": "markdown",
   "id": "d289e4f8",
   "metadata": {},
   "source": [
    "### Weight"
   ]
  },
  {
   "cell_type": "code",
   "execution_count": 73,
   "id": "fb0bcec3",
   "metadata": {},
   "outputs": [
    {
     "data": {
      "image/png": "[encoded data removed]",
      "text/plain": [
       "<Figure size 432x288 with 1 Axes>"
      ]
     },
     "metadata": {
      "needs_background": "light"
     },
     "output_type": "display_data"
    }
   ],
   "source": [
    "import pandas as pd\n",
    "import numpy as np\n",
    "import seaborn as sns\n",
    "import matplotlib.pyplot as plt\n",
    "\n",
    "sns.countplot(x='weight', data=final_data)\n",
    "\n",
    "plt.title('Distribution of Weight')\n",
    "plt.xlabel('Weight')\n",
    "plt.ylabel('Count')\n",
    "plt.xticks(rotation = 90)\n",
    "\n",
    "\n",
    "# Display the plot\n",
    "plt.show()"
   ]
  },
  {
   "cell_type": "code",
   "execution_count": 74,
   "id": "7f0557f6",
   "metadata": {},
   "outputs": [
    {
     "data": {
      "image/png": "[encoded data removed]",
      "text/plain": [
       "<Figure size 432x288 with 1 Axes>"
      ]
     },
     "metadata": {
      "needs_background": "light"
     },
     "output_type": "display_data"
    }
   ],
   "source": [
    "import pandas as pd\n",
    "import numpy as np\n",
    "import seaborn as sns\n",
    "import matplotlib.pyplot as plt\n",
    "\n",
    "sns.countplot(x='diabetesMed', data=final_data)\n",
    "\n",
    "plt.title('Distribution of Diabetes Med')\n",
    "plt.xlabel('Diabetes Med!')\n",
    "plt.ylabel('Count')\n",
    "plt.xticks(rotation = 90)\n",
    "\n",
    "\n",
    "# Display the plot\n",
    "plt.show()"
   ]
  },
  {
   "cell_type": "code",
   "execution_count": 75,
   "id": "6144c657",
   "metadata": {},
   "outputs": [
    {
     "data": {
      "text/plain": [
       "Index(['race', 'gender', 'age', 'weight', 'payer_code', 'medical_specialty',\n",
       "       'diag_1', 'diag_2', 'diag_3', 'max_glu_serum', 'A1Cresult', 'metformin',\n",
       "       'repaglinide', 'nateglinide', 'chlorpropamide', 'glimepiride',\n",
       "       'acetohexamide', 'glipizide', 'glyburide', 'tolbutamide',\n",
       "       'pioglitazone', 'rosiglitazone', 'acarbose', 'miglitol', 'troglitazone',\n",
       "       'tolazamide', 'examide', 'citoglipton', 'insulin',\n",
       "       'glyburide-metformin', 'glipizide-metformin',\n",
       "       'glimepiride-pioglitazone', 'metformin-rosiglitazone',\n",
       "       'metformin-pioglitazone', 'change', 'diabetesMed', 'readmitted'],\n",
       "      dtype='object')"
      ]
     },
     "execution_count": 75,
     "metadata": {},
     "output_type": "execute_result"
    }
   ],
   "source": [
    "categorical_col"
   ]
  },
  {
   "cell_type": "code",
   "execution_count": 76,
   "id": "6dc892c7",
   "metadata": {},
   "outputs": [
    {
     "data": {
      "text/plain": [
       "Index(['encounter_id', 'patient_nbr', 'admission_type_id',\n",
       "       'discharge_disposition_id', 'admission_source_id', 'time_in_hospital',\n",
       "       'num_lab_procedures', 'num_procedures', 'num_medications',\n",
       "       'number_outpatient', 'number_emergency', 'number_inpatient',\n",
       "       'number_diagnoses', 'readmitted'],\n",
       "      dtype='object')"
      ]
     },
     "execution_count": 76,
     "metadata": {},
     "output_type": "execute_result"
    }
   ],
   "source": [
    "numerical_col"
   ]
  },
  {
   "cell_type": "code",
   "execution_count": 77,
   "id": "92248e1f",
   "metadata": {},
   "outputs": [],
   "source": [
    "import seaborn as sns\n",
    "import matplotlib.pyplot as plt\n",
    "\n",
    "def plot_univariate_distribution(final_data, column_name):\n",
    "   \n",
    "    plt.figure(figsize=(8,6))\n",
    "    sns.histplot(final_data[column_name], kde=True, color='#3498db', bins=20)\n",
    "    plt.title(f'Distribution of {column_name}', fontsize=16)\n",
    "    plt.xlabel(column_name, fontsize=12)\n",
    "    plt.ylabel('Frequency', fontsize=12)\n",
    "    plt.show()"
   ]
  },
  {
   "cell_type": "code",
   "execution_count": 78,
   "id": "b9516463",
   "metadata": {},
   "outputs": [
    {
     "data": {
      "image/png": "[encoded data removed]",
      "text/plain": [
       "<Figure size 576x432 with 1 Axes>"
      ]
     },
     "metadata": {
      "needs_background": "light"
     },
     "output_type": "display_data"
    }
   ],
   "source": [
    "plot_univariate_distribution(numerical_cols, 'time_in_hospital')\n"
   ]
  },
  {
   "cell_type": "code",
   "execution_count": 79,
   "id": "22931276",
   "metadata": {},
   "outputs": [
    {
     "data": {
      "image/png": "[encoded data removed]",
      "text/plain": [
       "<Figure size 576x432 with 1 Axes>"
      ]
     },
     "metadata": {
      "needs_background": "light"
     },
     "output_type": "display_data"
    }
   ],
   "source": [
    "plot_univariate_distribution(numerical_cols, 'num_lab_procedures')\n"
   ]
  },
  {
   "cell_type": "code",
   "execution_count": 80,
   "id": "5f228156",
   "metadata": {},
   "outputs": [
    {
     "data": {
      "image/png": "[encoded data removed]",
      "text/plain": [
       "<Figure size 576x432 with 1 Axes>"
      ]
     },
     "metadata": {
      "needs_background": "light"
     },
     "output_type": "display_data"
    }
   ],
   "source": [
    "plot_univariate_distribution(numerical_cols, 'num_medications')\n"
   ]
  },
  {
   "cell_type": "code",
   "execution_count": 81,
   "id": "926ee4dc",
   "metadata": {},
   "outputs": [
    {
     "data": {
      "image/png": "[encoded data removed]",
      "text/plain": [
       "<Figure size 576x432 with 1 Axes>"
      ]
     },
     "metadata": {
      "needs_background": "light"
     },
     "output_type": "display_data"
    }
   ],
   "source": [
    "plot_univariate_distribution(numerical_cols, 'number_diagnoses')\n"
   ]
  },
  {
   "cell_type": "code",
   "execution_count": 82,
   "id": "d4feba61",
   "metadata": {},
   "outputs": [
    {
     "data": {
      "image/png": "[encoded data removed]",
      "text/plain": [
       "<Figure size 576x432 with 1 Axes>"
      ]
     },
     "metadata": {
      "needs_background": "light"
     },
     "output_type": "display_data"
    }
   ],
   "source": [
    "plot_univariate_distribution(numerical_cols, 'num_procedures')\n"
   ]
  },
  {
   "cell_type": "markdown",
   "id": "e49f3fe1",
   "metadata": {},
   "source": [
    "## Bivariate Analysis"
   ]
  },
  {
   "cell_type": "markdown",
   "id": "7ffc927a",
   "metadata": {},
   "source": [
    "#### Age vs Readmitted"
   ]
  },
  {
   "cell_type": "code",
   "execution_count": 83,
   "id": "5e73e126",
   "metadata": {},
   "outputs": [
    {
     "data": {
      "image/png": "[encoded data removed]",
      "text/plain": [
       "<Figure size 720x432 with 1 Axes>"
      ]
     },
     "metadata": {
      "needs_background": "light"
     },
     "output_type": "display_data"
    }
   ],
   "source": [
    "plt.figure(figsize=(10, 6))\n",
    "sns.countplot(x='age', hue='readmitted', data=final_data, palette='Blues')\n",
    "\n",
    "plt.title('Count of Age Based on Readmission')\n",
    "plt.xlabel('Age')\n",
    "plt.ylabel('Count')\n",
    "\n",
    "\n",
    "plt.xticks(rotation=90)  \n",
    "plt.show()\n"
   ]
  },
  {
   "cell_type": "markdown",
   "id": "24d545c1",
   "metadata": {},
   "source": [
    "#### Weight vs Readmitted"
   ]
  },
  {
   "cell_type": "code",
   "execution_count": 91,
   "id": "1c862747",
   "metadata": {},
   "outputs": [
    {
     "data": {
      "image/png": "[encoded data removed]",
      "text/plain": [
       "<Figure size 720x432 with 1 Axes>"
      ]
     },
     "metadata": {
      "needs_background": "light"
     },
     "output_type": "display_data"
    }
   ],
   "source": [
    "plt.figure(figsize=(10, 6))\n",
    "sns.countplot(x='weight', hue='readmitted', data=final_data, palette='Blues')\n",
    "\n",
    "plt.title('Count of Weight Based on Readmission')\n",
    "plt.xlabel('Age')\n",
    "plt.ylabel('Count')\n",
    "\n",
    "\n",
    "plt.xticks(rotation=90)  \n",
    "plt.show()\n"
   ]
  },
  {
   "cell_type": "markdown",
   "id": "83d26c5c",
   "metadata": {},
   "source": [
    "#### Race vs Readmitted"
   ]
  },
  {
   "cell_type": "code",
   "execution_count": 92,
   "id": "5aee018e",
   "metadata": {},
   "outputs": [
    {
     "data": {
      "image/png": "[encoded data removed]",
      "text/plain": [
       "<Figure size 720x432 with 1 Axes>"
      ]
     },
     "metadata": {
      "needs_background": "light"
     },
     "output_type": "display_data"
    }
   ],
   "source": [
    "plt.figure(figsize=(10, 6))\n",
    "sns.countplot(x='race', hue='readmitted', data=final_data, palette='Blues')\n",
    "\n",
    "plt.title('Count of Race Based on Readmission')\n",
    "plt.xlabel('Race')\n",
    "plt.ylabel('Count')\n",
    "\n",
    "\n",
    "plt.xticks(rotation=90)  \n",
    "plt.show()\n"
   ]
  },
  {
   "cell_type": "markdown",
   "id": "400c3031",
   "metadata": {},
   "source": [
    "#### Gender vs Readmitted"
   ]
  },
  {
   "cell_type": "code",
   "execution_count": 93,
   "id": "9af08256",
   "metadata": {},
   "outputs": [
    {
     "data": {
      "image/png": "[encoded data removed]",
      "text/plain": [
       "<Figure size 720x432 with 1 Axes>"
      ]
     },
     "metadata": {
      "needs_background": "light"
     },
     "output_type": "display_data"
    }
   ],
   "source": [
    "plt.figure(figsize=(10, 6))\n",
    "sns.countplot(x='gender', hue='readmitted', data=final_data, palette='Blues')\n",
    "\n",
    "plt.title('Count of Gender Based on Readmission')\n",
    "plt.xlabel('Gender')\n",
    "plt.ylabel('Count')\n",
    "\n",
    "\n",
    "plt.xticks(rotation=90)  \n",
    "plt.show()\n"
   ]
  },
  {
   "cell_type": "markdown",
   "id": "1b9d753a",
   "metadata": {},
   "source": [
    "#### Payer Code vs Readmitted"
   ]
  },
  {
   "cell_type": "code",
   "execution_count": 94,
   "id": "37c81340",
   "metadata": {},
   "outputs": [
    {
     "data": {
      "image/png": "[encoded data removed]",
      "text/plain": [
       "<Figure size 720x432 with 1 Axes>"
      ]
     },
     "metadata": {
      "needs_background": "light"
     },
     "output_type": "display_data"
    }
   ],
   "source": [
    "plt.figure(figsize=(10, 6))\n",
    "sns.countplot(x='payer_code', hue='readmitted', data=final_data, palette='Blues')\n",
    "\n",
    "plt.title('Count of Payer Code on Readmission')\n",
    "plt.xlabel('Payer Code')\n",
    "plt.ylabel('Count')\n",
    "\n",
    "\n",
    "plt.xticks(rotation=90)  \n",
    "plt.show()\n"
   ]
  },
  {
   "cell_type": "markdown",
   "id": "d979ec8a",
   "metadata": {},
   "source": [
    "#### Times In Hospital vs Readmitted"
   ]
  },
  {
   "cell_type": "code",
   "execution_count": 96,
   "id": "1401c6fe",
   "metadata": {},
   "outputs": [
    {
     "data": {
      "image/png": "[encoded data removed]",
      "text/plain": [
       "<Figure size 720x432 with 1 Axes>"
      ]
     },
     "metadata": {
      "needs_background": "light"
     },
     "output_type": "display_data"
    }
   ],
   "source": [
    "plt.figure(figsize=(10, 6))\n",
    "sns.countplot(x='time_in_hospital', hue='readmitted', data=final_data, palette='Blues')\n",
    "\n",
    "plt.title('Count of Time In Hospital Based on Readmission')\n",
    "plt.xlabel('No. of times in hospital')\n",
    "plt.ylabel('Count')\n",
    "\n",
    "\n",
    "plt.xticks(rotation=90)  \n",
    "plt.show()\n"
   ]
  },
  {
   "cell_type": "markdown",
   "id": "a20297a5",
   "metadata": {},
   "source": [
    "#### Insulin vs Readmitted"
   ]
  },
  {
   "cell_type": "code",
   "execution_count": 97,
   "id": "7a987689",
   "metadata": {},
   "outputs": [
    {
     "data": {
      "image/png": "[encoded data removed]",
      "text/plain": [
       "<Figure size 720x432 with 1 Axes>"
      ]
     },
     "metadata": {
      "needs_background": "light"
     },
     "output_type": "display_data"
    }
   ],
   "source": [
    "plt.figure(figsize=(10, 6))\n",
    "sns.countplot(x='insulin', hue='readmitted', data=final_data, palette='Blues')\n",
    "\n",
    "plt.title('Count of Insulin Based on Readmission')\n",
    "plt.xlabel('Insulin Level')\n",
    "plt.ylabel('Count')\n",
    "\n",
    "\n",
    "plt.xticks(rotation=90)  \n",
    "plt.show()\n"
   ]
  },
  {
   "cell_type": "markdown",
   "id": "1d624858",
   "metadata": {},
   "source": [
    "#### Taking Diabetes Medication vs Readmitted"
   ]
  },
  {
   "cell_type": "code",
   "execution_count": 98,
   "id": "85ea66e5",
   "metadata": {},
   "outputs": [
    {
     "data": {
      "image/png": "[encoded data removed]",
      "text/plain": [
       "<Figure size 720x432 with 1 Axes>"
      ]
     },
     "metadata": {
      "needs_background": "light"
     },
     "output_type": "display_data"
    }
   ],
   "source": [
    "plt.figure(figsize=(10, 6))\n",
    "sns.countplot(x='diabetesMed', hue='readmitted', data=final_data, palette='Blues')\n",
    "\n",
    "plt.title('Count of Taking Diabetes Medication Based on Readmission')\n",
    "plt.xlabel('Taking Diabetes Medication')\n",
    "plt.ylabel('Count')\n",
    "\n",
    "\n",
    "plt.xticks(rotation=90)  \n",
    "plt.show()\n"
   ]
  },
  {
   "cell_type": "code",
   "execution_count": null,
   "id": "43850a4b",
   "metadata": {},
   "outputs": [],
   "source": []
  }
 ],
 "metadata": {
  "kernelspec": {
   "display_name": "Python 3 (ipykernel)",
   "language": "python",
   "name": "python3"
  },
  "language_info": {
   "codemirror_mode": {
    "name": "ipython",
    "version": 3
   },
   "file_extension": ".py",
   "mimetype": "text/x-python",
   "name": "python",
   "nbconvert_exporter": "python",
   "pygments_lexer": "ipython3",
   "version": "3.9.7"
  }
 },
 "nbformat": 4,
 "nbformat_minor": 5
}
